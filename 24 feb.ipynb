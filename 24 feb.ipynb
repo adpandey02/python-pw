{
 "cells": [
  {
   "cell_type": "markdown",
   "id": "7125f622-9f5d-485a-8773-5ab49b5393b2",
   "metadata": {},
   "source": [
    "# 1"
   ]
  },
  {
   "cell_type": "code",
   "execution_count": 15,
   "id": "c2c227f0-4d0c-4107-bc98-b71414ebe02b",
   "metadata": {},
   "outputs": [],
   "source": [
    "import pandas as pd"
   ]
  },
  {
   "cell_type": "code",
   "execution_count": null,
   "id": "b766f812-dc48-4aa1-b43f-5b595cc6ac1d",
   "metadata": {},
   "outputs": [],
   "source": [
    "'''\n",
    "pandas.read_csv() - This function is used to read a CSV file and create a DataFrame object.\n",
    "'''\n",
    "\n",
    "import pandas as pd\n",
    "df = pd.read_csv('example.csv')"
   ]
  },
  {
   "cell_type": "code",
   "execution_count": 2,
   "id": "c162feb2-ac86-4d24-9040-5b3ee8401790",
   "metadata": {},
   "outputs": [
    {
     "data": {
      "text/plain": [
       "\"\\nDataFrame.head() - This function is used to return the first n rows of a DataFrame.\\n\\n\\ndf = pd.read_csv('example.csv')\\nprint(df.head(5))       # returns first 5 rows of df\\n\""
      ]
     },
     "execution_count": 2,
     "metadata": {},
     "output_type": "execute_result"
    }
   ],
   "source": [
    "'''\n",
    "DataFrame.head() - This function is used to return the first n rows of a DataFrame.\n",
    "'''\n",
    "\n",
    "df = pd.read_csv('example.csv')\n",
    "print(df.head(5))       # returns first 5 rows of df\n"
   ]
  },
  {
   "cell_type": "code",
   "execution_count": null,
   "id": "f34e4135-7537-466f-a708-62efbccf1a5b",
   "metadata": {},
   "outputs": [],
   "source": [
    "'''\n",
    "DataFrame.dropna() - This function is used to remove missing values (NaN) from a DataFrame.\n",
    "'''\n",
    "\n",
    "import pandas as pd\n",
    "df = pd.read_csv('example.csv')\n",
    "df.dropna(inplace=True) # removes rows with NaN values\n"
   ]
  },
  {
   "cell_type": "code",
   "execution_count": null,
   "id": "2eb7eaef-97fc-4639-aeff-7fb381997147",
   "metadata": {},
   "outputs": [],
   "source": [
    "'''\n",
    "DataFrame.groupby() - This function is used to group data in a DataFrame based on one or more columns.\n",
    "'''\n",
    "\n",
    "import pandas as pd\n",
    "df = pd.read_csv('example.csv')\n",
    "grouped_data = df.groupby('column_name')\n"
   ]
  },
  {
   "cell_type": "code",
   "execution_count": null,
   "id": "46c802d7-5275-44d6-a1e9-ce742b63f378",
   "metadata": {},
   "outputs": [],
   "source": [
    "'''\n",
    "DataFrame.merge() - This function is used to merge two DataFrames based on one or more columns.\n",
    "'''\n",
    "\n",
    "import pandas as pd\n",
    "df1 = pd.read_csv('example1.csv')\n",
    "df2 = pd.read_csv('example2.csv')\n",
    "merged_df = df1.merge(df2, on='column_name')\n"
   ]
  },
  {
   "cell_type": "code",
   "execution_count": null,
   "id": "8d4dfbb2-e4eb-4cc2-b5f1-0762f24c6a4b",
   "metadata": {},
   "outputs": [],
   "source": []
  },
  {
   "cell_type": "markdown",
   "id": "d5f85278-a8cb-42e7-ab51-2790172cf0cc",
   "metadata": {},
   "source": [
    "# 2"
   ]
  },
  {
   "cell_type": "code",
   "execution_count": 8,
   "id": "94b76115-8e6d-423e-9010-361bf4257783",
   "metadata": {},
   "outputs": [
    {
     "data": {
      "text/html": [
       "<div>\n",
       "<style scoped>\n",
       "    .dataframe tbody tr th:only-of-type {\n",
       "        vertical-align: middle;\n",
       "    }\n",
       "\n",
       "    .dataframe tbody tr th {\n",
       "        vertical-align: top;\n",
       "    }\n",
       "\n",
       "    .dataframe thead th {\n",
       "        text-align: right;\n",
       "    }\n",
       "</style>\n",
       "<table border=\"1\" class=\"dataframe\">\n",
       "  <thead>\n",
       "    <tr style=\"text-align: right;\">\n",
       "      <th></th>\n",
       "      <th>A</th>\n",
       "      <th>B</th>\n",
       "      <th>C</th>\n",
       "    </tr>\n",
       "  </thead>\n",
       "  <tbody>\n",
       "    <tr>\n",
       "      <th>0</th>\n",
       "      <td>Alice</td>\n",
       "      <td>HR</td>\n",
       "      <td>100000</td>\n",
       "    </tr>\n",
       "    <tr>\n",
       "      <th>1</th>\n",
       "      <td>Bob</td>\n",
       "      <td>Sales</td>\n",
       "      <td>50000</td>\n",
       "    </tr>\n",
       "    <tr>\n",
       "      <th>2</th>\n",
       "      <td>Charlie</td>\n",
       "      <td>IT</td>\n",
       "      <td>75000</td>\n",
       "    </tr>\n",
       "    <tr>\n",
       "      <th>3</th>\n",
       "      <td>David</td>\n",
       "      <td>Sales</td>\n",
       "      <td>60000</td>\n",
       "    </tr>\n",
       "    <tr>\n",
       "      <th>4</th>\n",
       "      <td>Eva</td>\n",
       "      <td>HR</td>\n",
       "      <td>40000</td>\n",
       "    </tr>\n",
       "    <tr>\n",
       "      <th>5</th>\n",
       "      <td>Frank</td>\n",
       "      <td>IT</td>\n",
       "      <td>80000</td>\n",
       "    </tr>\n",
       "  </tbody>\n",
       "</table>\n",
       "</div>"
      ],
      "text/plain": [
       "         A      B       C\n",
       "0    Alice     HR  100000\n",
       "1      Bob  Sales   50000\n",
       "2  Charlie     IT   75000\n",
       "3    David  Sales   60000\n",
       "4      Eva     HR   40000\n",
       "5    Frank     IT   80000"
      ]
     },
     "execution_count": 8,
     "metadata": {},
     "output_type": "execute_result"
    }
   ],
   "source": [
    "'''\n",
    "Given a Pandas DataFrame df with columns 'A', 'B', and 'C', write a Python function to re-index the DataFrame with a new\n",
    "index that starts from 1 and increments by 2 for each row\n",
    "'''\n",
    "\n",
    "data = {\n",
    "    'A': ['Alice', 'Bob', 'Charlie', 'David', 'Eva', 'Frank'],\n",
    "    'B': ['HR', 'Sales', 'IT', 'Sales', 'HR', 'IT'],\n",
    "    'C': [100000, 50000, 75000, 60000, 40000, 80000]\n",
    "}\n",
    "df = pd.DataFrame(data)\n",
    "df"
   ]
  },
  {
   "cell_type": "code",
   "execution_count": 11,
   "id": "1b04af84-b890-40c9-966d-442e4e124ab1",
   "metadata": {},
   "outputs": [],
   "source": [
    "def reindex_df(df):\n",
    "    new_index = pd.RangeIndex(start=1, stop=len(df)*2, step=2)\n",
    "    new_df = df.copy()\n",
    "    new_df.index = new_index\n",
    "    return new_df\n"
   ]
  },
  {
   "cell_type": "code",
   "execution_count": 12,
   "id": "9803a302-c6f2-4688-8af7-d732775f3fe3",
   "metadata": {},
   "outputs": [
    {
     "data": {
      "text/html": [
       "<div>\n",
       "<style scoped>\n",
       "    .dataframe tbody tr th:only-of-type {\n",
       "        vertical-align: middle;\n",
       "    }\n",
       "\n",
       "    .dataframe tbody tr th {\n",
       "        vertical-align: top;\n",
       "    }\n",
       "\n",
       "    .dataframe thead th {\n",
       "        text-align: right;\n",
       "    }\n",
       "</style>\n",
       "<table border=\"1\" class=\"dataframe\">\n",
       "  <thead>\n",
       "    <tr style=\"text-align: right;\">\n",
       "      <th></th>\n",
       "      <th>A</th>\n",
       "      <th>B</th>\n",
       "      <th>C</th>\n",
       "    </tr>\n",
       "  </thead>\n",
       "  <tbody>\n",
       "    <tr>\n",
       "      <th>1</th>\n",
       "      <td>Alice</td>\n",
       "      <td>HR</td>\n",
       "      <td>100000</td>\n",
       "    </tr>\n",
       "    <tr>\n",
       "      <th>3</th>\n",
       "      <td>Bob</td>\n",
       "      <td>Sales</td>\n",
       "      <td>50000</td>\n",
       "    </tr>\n",
       "    <tr>\n",
       "      <th>5</th>\n",
       "      <td>Charlie</td>\n",
       "      <td>IT</td>\n",
       "      <td>75000</td>\n",
       "    </tr>\n",
       "    <tr>\n",
       "      <th>7</th>\n",
       "      <td>David</td>\n",
       "      <td>Sales</td>\n",
       "      <td>60000</td>\n",
       "    </tr>\n",
       "    <tr>\n",
       "      <th>9</th>\n",
       "      <td>Eva</td>\n",
       "      <td>HR</td>\n",
       "      <td>40000</td>\n",
       "    </tr>\n",
       "    <tr>\n",
       "      <th>11</th>\n",
       "      <td>Frank</td>\n",
       "      <td>IT</td>\n",
       "      <td>80000</td>\n",
       "    </tr>\n",
       "  </tbody>\n",
       "</table>\n",
       "</div>"
      ],
      "text/plain": [
       "          A      B       C\n",
       "1     Alice     HR  100000\n",
       "3       Bob  Sales   50000\n",
       "5   Charlie     IT   75000\n",
       "7     David  Sales   60000\n",
       "9       Eva     HR   40000\n",
       "11    Frank     IT   80000"
      ]
     },
     "execution_count": 12,
     "metadata": {},
     "output_type": "execute_result"
    }
   ],
   "source": [
    "reindex_df(df)"
   ]
  },
  {
   "cell_type": "code",
   "execution_count": null,
   "id": "e12d3358-b1fd-4492-b882-761668649a89",
   "metadata": {},
   "outputs": [],
   "source": []
  },
  {
   "cell_type": "markdown",
   "id": "8d533566-ca54-4350-81c6-e10619bbd2d9",
   "metadata": {},
   "source": [
    "# 3"
   ]
  },
  {
   "cell_type": "code",
   "execution_count": 15,
   "id": "0e1f74db-58ba-48aa-9de4-70da646a690b",
   "metadata": {},
   "outputs": [
    {
     "name": "stdout",
     "output_type": "stream",
     "text": [
      "   value     name\n",
      "0     10    Alice\n",
      "1     20      Bob\n",
      "2     30  Charlie\n",
      "3     40    David\n",
      "4     50    Emily\n"
     ]
    }
   ],
   "source": [
    "data = {'value': [10, 20, 30, 40, 50], \n",
    "        'name': ['Alice', 'Bob', 'Charlie', 'David', 'Emily']}\n",
    "df = pd.DataFrame(data)\n",
    "print(df)"
   ]
  },
  {
   "cell_type": "code",
   "execution_count": 25,
   "id": "b41cf36f-2ad3-44be-8f5c-45c54edd17e9",
   "metadata": {},
   "outputs": [],
   "source": [
    "def sum_3_values(df):\n",
    "     return sum(df.loc[0:2, 'value'])"
   ]
  },
  {
   "cell_type": "code",
   "execution_count": 26,
   "id": "634f48d2-b9c7-4eba-b09c-eabdef526530",
   "metadata": {},
   "outputs": [
    {
     "data": {
      "text/plain": [
       "60"
      ]
     },
     "execution_count": 26,
     "metadata": {},
     "output_type": "execute_result"
    }
   ],
   "source": [
    "sum_3_values(df)"
   ]
  },
  {
   "cell_type": "code",
   "execution_count": null,
   "id": "7f7ff7b6-f902-4837-bf21-98477bde2712",
   "metadata": {},
   "outputs": [],
   "source": []
  },
  {
   "cell_type": "markdown",
   "id": "23119b50-0ad2-468f-852d-ce0be87e7a08",
   "metadata": {},
   "source": [
    "# 4"
   ]
  },
  {
   "cell_type": "code",
   "execution_count": 36,
   "id": "fa461971-1c86-4c5c-aac8-79056b2ca455",
   "metadata": {},
   "outputs": [
    {
     "data": {
      "text/html": [
       "<div>\n",
       "<style scoped>\n",
       "    .dataframe tbody tr th:only-of-type {\n",
       "        vertical-align: middle;\n",
       "    }\n",
       "\n",
       "    .dataframe tbody tr th {\n",
       "        vertical-align: top;\n",
       "    }\n",
       "\n",
       "    .dataframe thead th {\n",
       "        text-align: right;\n",
       "    }\n",
       "</style>\n",
       "<table border=\"1\" class=\"dataframe\">\n",
       "  <thead>\n",
       "    <tr style=\"text-align: right;\">\n",
       "      <th></th>\n",
       "      <th>text</th>\n",
       "    </tr>\n",
       "  </thead>\n",
       "  <tbody>\n",
       "    <tr>\n",
       "      <th>0</th>\n",
       "      <td>Alice</td>\n",
       "    </tr>\n",
       "    <tr>\n",
       "      <th>1</th>\n",
       "      <td>Bob ross</td>\n",
       "    </tr>\n",
       "    <tr>\n",
       "      <th>2</th>\n",
       "      <td>Charlie von rawn</td>\n",
       "    </tr>\n",
       "    <tr>\n",
       "      <th>3</th>\n",
       "      <td>David ewlsh smith jr</td>\n",
       "    </tr>\n",
       "    <tr>\n",
       "      <th>4</th>\n",
       "      <td>Emily alberts</td>\n",
       "    </tr>\n",
       "  </tbody>\n",
       "</table>\n",
       "</div>"
      ],
      "text/plain": [
       "                   text\n",
       "0                 Alice\n",
       "1              Bob ross\n",
       "2      Charlie von rawn\n",
       "3  David ewlsh smith jr\n",
       "4         Emily alberts"
      ]
     },
     "execution_count": 36,
     "metadata": {},
     "output_type": "execute_result"
    }
   ],
   "source": [
    "data = {'text': ['Alice', 'Bob ross', 'Charlie von rawn', 'David ewlsh smith jr', 'Emily alberts']}\n",
    "df = pd.DataFrame(data)\n",
    "df"
   ]
  },
  {
   "cell_type": "code",
   "execution_count": 49,
   "id": "df94946b-ce61-431a-9689-497845555121",
   "metadata": {},
   "outputs": [],
   "source": [
    "def word_cnt(df):\n",
    "    word_count = df['text'].str.split().str.len()\n",
    "    df['word_count'] = word_count\n",
    "    return df"
   ]
  },
  {
   "cell_type": "code",
   "execution_count": 50,
   "id": "8e960ec6-ca66-42a6-b0d1-4f83c775d80f",
   "metadata": {},
   "outputs": [
    {
     "data": {
      "text/html": [
       "<div>\n",
       "<style scoped>\n",
       "    .dataframe tbody tr th:only-of-type {\n",
       "        vertical-align: middle;\n",
       "    }\n",
       "\n",
       "    .dataframe tbody tr th {\n",
       "        vertical-align: top;\n",
       "    }\n",
       "\n",
       "    .dataframe thead th {\n",
       "        text-align: right;\n",
       "    }\n",
       "</style>\n",
       "<table border=\"1\" class=\"dataframe\">\n",
       "  <thead>\n",
       "    <tr style=\"text-align: right;\">\n",
       "      <th></th>\n",
       "      <th>text</th>\n",
       "      <th>word_count</th>\n",
       "    </tr>\n",
       "  </thead>\n",
       "  <tbody>\n",
       "    <tr>\n",
       "      <th>0</th>\n",
       "      <td>Alice</td>\n",
       "      <td>1</td>\n",
       "    </tr>\n",
       "    <tr>\n",
       "      <th>1</th>\n",
       "      <td>Bob ross</td>\n",
       "      <td>2</td>\n",
       "    </tr>\n",
       "    <tr>\n",
       "      <th>2</th>\n",
       "      <td>Charlie von rawn</td>\n",
       "      <td>3</td>\n",
       "    </tr>\n",
       "    <tr>\n",
       "      <th>3</th>\n",
       "      <td>David ewlsh smith jr</td>\n",
       "      <td>4</td>\n",
       "    </tr>\n",
       "    <tr>\n",
       "      <th>4</th>\n",
       "      <td>Emily alberts</td>\n",
       "      <td>2</td>\n",
       "    </tr>\n",
       "  </tbody>\n",
       "</table>\n",
       "</div>"
      ],
      "text/plain": [
       "                   text  word_count\n",
       "0                 Alice           1\n",
       "1              Bob ross           2\n",
       "2      Charlie von rawn           3\n",
       "3  David ewlsh smith jr           4\n",
       "4         Emily alberts           2"
      ]
     },
     "execution_count": 50,
     "metadata": {},
     "output_type": "execute_result"
    }
   ],
   "source": [
    "word_cnt(df)"
   ]
  },
  {
   "cell_type": "code",
   "execution_count": null,
   "id": "c86d4697-a6cf-45e0-b367-00718654a281",
   "metadata": {},
   "outputs": [],
   "source": []
  },
  {
   "cell_type": "markdown",
   "id": "7aee7abb-704a-464f-b178-28214ed0971d",
   "metadata": {},
   "source": [
    "# 5"
   ]
  },
  {
   "cell_type": "code",
   "execution_count": null,
   "id": "bf8d8b30-d239-41e3-9e43-a8c73e8224a5",
   "metadata": {},
   "outputs": [],
   "source": [
    "'''\n",
    "DataFrame.size() returns the number of elements in a DataFrame, which is equal to the product of the number of rows and the number of columns.\n",
    "DataFrame.shape() returns a tuple containing the number of rows and the number of columns in the DataFrame.\n",
    "'''"
   ]
  },
  {
   "cell_type": "code",
   "execution_count": null,
   "id": "e9c6d04d-e972-4292-8e56-484c2363c70b",
   "metadata": {},
   "outputs": [],
   "source": []
  },
  {
   "cell_type": "markdown",
   "id": "7cf2dc38-4e92-418a-b9a6-05af84be24c1",
   "metadata": {},
   "source": [
    "# 6"
   ]
  },
  {
   "cell_type": "code",
   "execution_count": 51,
   "id": "75f1c974-0e4b-4f1e-9a4e-f2bf3658307e",
   "metadata": {},
   "outputs": [
    {
     "data": {
      "text/plain": [
       "'pandas.read_excel() function'"
      ]
     },
     "execution_count": 51,
     "metadata": {},
     "output_type": "execute_result"
    }
   ],
   "source": [
    "'''pandas.read_excel() function'''"
   ]
  },
  {
   "cell_type": "markdown",
   "id": "cd2eb606-102c-4fa6-a362-95151614a6b0",
   "metadata": {},
   "source": [
    "# 7"
   ]
  },
  {
   "cell_type": "code",
   "execution_count": 83,
   "id": "e1b9321e-ab29-44ce-8675-dda85b6fd047",
   "metadata": {},
   "outputs": [
    {
     "data": {
      "text/html": [
       "<div>\n",
       "<style scoped>\n",
       "    .dataframe tbody tr th:only-of-type {\n",
       "        vertical-align: middle;\n",
       "    }\n",
       "\n",
       "    .dataframe tbody tr th {\n",
       "        vertical-align: top;\n",
       "    }\n",
       "\n",
       "    .dataframe thead th {\n",
       "        text-align: right;\n",
       "    }\n",
       "</style>\n",
       "<table border=\"1\" class=\"dataframe\">\n",
       "  <thead>\n",
       "    <tr style=\"text-align: right;\">\n",
       "      <th></th>\n",
       "      <th>Email</th>\n",
       "    </tr>\n",
       "  </thead>\n",
       "  <tbody>\n",
       "    <tr>\n",
       "      <th>0</th>\n",
       "      <td>john.doe@example.com</td>\n",
       "    </tr>\n",
       "    <tr>\n",
       "      <th>1</th>\n",
       "      <td>jane.doe@example.com</td>\n",
       "    </tr>\n",
       "    <tr>\n",
       "      <th>2</th>\n",
       "      <td>foo.bar@example.com</td>\n",
       "    </tr>\n",
       "    <tr>\n",
       "      <th>3</th>\n",
       "      <td>baz.qux@example.com</td>\n",
       "    </tr>\n",
       "    <tr>\n",
       "      <th>4</th>\n",
       "      <td>alice@example.com</td>\n",
       "    </tr>\n",
       "  </tbody>\n",
       "</table>\n",
       "</div>"
      ],
      "text/plain": [
       "                  Email\n",
       "0  john.doe@example.com\n",
       "1  jane.doe@example.com\n",
       "2   foo.bar@example.com\n",
       "3   baz.qux@example.com\n",
       "4     alice@example.com"
      ]
     },
     "execution_count": 83,
     "metadata": {},
     "output_type": "execute_result"
    }
   ],
   "source": [
    "\n",
    "data = {'Email': ['john.doe@example.com', 'jane.doe@example.com', 'foo.bar@example.com', 'baz.qux@example.com', 'alice@example.com']}\n",
    "df = pd.DataFrame(data)\n",
    "df"
   ]
  },
  {
   "cell_type": "code",
   "execution_count": 85,
   "id": "470f8fb6-0ada-4aff-b77b-fdc9522255ae",
   "metadata": {},
   "outputs": [
    {
     "data": {
      "text/html": [
       "<div>\n",
       "<style scoped>\n",
       "    .dataframe tbody tr th:only-of-type {\n",
       "        vertical-align: middle;\n",
       "    }\n",
       "\n",
       "    .dataframe tbody tr th {\n",
       "        vertical-align: top;\n",
       "    }\n",
       "\n",
       "    .dataframe thead th {\n",
       "        text-align: right;\n",
       "    }\n",
       "</style>\n",
       "<table border=\"1\" class=\"dataframe\">\n",
       "  <thead>\n",
       "    <tr style=\"text-align: right;\">\n",
       "      <th></th>\n",
       "      <th>Email</th>\n",
       "      <th>Username</th>\n",
       "    </tr>\n",
       "  </thead>\n",
       "  <tbody>\n",
       "    <tr>\n",
       "      <th>0</th>\n",
       "      <td>john.doe@example.com</td>\n",
       "      <td>john.doe</td>\n",
       "    </tr>\n",
       "    <tr>\n",
       "      <th>1</th>\n",
       "      <td>jane.doe@example.com</td>\n",
       "      <td>jane.doe</td>\n",
       "    </tr>\n",
       "    <tr>\n",
       "      <th>2</th>\n",
       "      <td>foo.bar@example.com</td>\n",
       "      <td>foo.bar</td>\n",
       "    </tr>\n",
       "    <tr>\n",
       "      <th>3</th>\n",
       "      <td>baz.qux@example.com</td>\n",
       "      <td>baz.qux</td>\n",
       "    </tr>\n",
       "    <tr>\n",
       "      <th>4</th>\n",
       "      <td>alice@example.com</td>\n",
       "      <td>alice</td>\n",
       "    </tr>\n",
       "  </tbody>\n",
       "</table>\n",
       "</div>"
      ],
      "text/plain": [
       "                  Email  Username\n",
       "0  john.doe@example.com  john.doe\n",
       "1  jane.doe@example.com  jane.doe\n",
       "2   foo.bar@example.com   foo.bar\n",
       "3   baz.qux@example.com   baz.qux\n",
       "4     alice@example.com     alice"
      ]
     },
     "execution_count": 85,
     "metadata": {},
     "output_type": "execute_result"
    }
   ],
   "source": [
    "def extract_username(email):\n",
    "\n",
    "    return email.split('@')[0]\n",
    "\n",
    "# Create 'Username' column using the extract_username function\n",
    "df['Username'] = df['Email'].apply(extract_username)\n",
    "df\n"
   ]
  },
  {
   "cell_type": "code",
   "execution_count": 81,
   "id": "19a1074f-8275-4dbb-bedd-450368440b22",
   "metadata": {},
   "outputs": [],
   "source": []
  },
  {
   "cell_type": "markdown",
   "id": "da11e791-8fcc-4faf-9f20-726487deae23",
   "metadata": {},
   "source": [
    "# 8"
   ]
  },
  {
   "cell_type": "code",
   "execution_count": 99,
   "id": "c1b7b63e-97f6-46c1-8289-ee3455ce61f5",
   "metadata": {},
   "outputs": [],
   "source": [
    "def select_rows(df):\n",
    "    return df[(df['A']>5) & (df['B']<10)]"
   ]
  },
  {
   "cell_type": "code",
   "execution_count": 100,
   "id": "97a1cb8b-c950-4ac4-ac35-0bee09d7c3b3",
   "metadata": {},
   "outputs": [
    {
     "data": {
      "text/html": [
       "<div>\n",
       "<style scoped>\n",
       "    .dataframe tbody tr th:only-of-type {\n",
       "        vertical-align: middle;\n",
       "    }\n",
       "\n",
       "    .dataframe tbody tr th {\n",
       "        vertical-align: top;\n",
       "    }\n",
       "\n",
       "    .dataframe thead th {\n",
       "        text-align: right;\n",
       "    }\n",
       "</style>\n",
       "<table border=\"1\" class=\"dataframe\">\n",
       "  <thead>\n",
       "    <tr style=\"text-align: right;\">\n",
       "      <th></th>\n",
       "      <th>A</th>\n",
       "      <th>B</th>\n",
       "      <th>C</th>\n",
       "    </tr>\n",
       "  </thead>\n",
       "  <tbody>\n",
       "    <tr>\n",
       "      <th>0</th>\n",
       "      <td>3</td>\n",
       "      <td>5</td>\n",
       "      <td>1</td>\n",
       "    </tr>\n",
       "    <tr>\n",
       "      <th>1</th>\n",
       "      <td>8</td>\n",
       "      <td>2</td>\n",
       "      <td>7</td>\n",
       "    </tr>\n",
       "    <tr>\n",
       "      <th>2</th>\n",
       "      <td>6</td>\n",
       "      <td>9</td>\n",
       "      <td>4</td>\n",
       "    </tr>\n",
       "    <tr>\n",
       "      <th>3</th>\n",
       "      <td>2</td>\n",
       "      <td>32</td>\n",
       "      <td>5</td>\n",
       "    </tr>\n",
       "    <tr>\n",
       "      <th>4</th>\n",
       "      <td>9</td>\n",
       "      <td>11</td>\n",
       "      <td>2</td>\n",
       "    </tr>\n",
       "  </tbody>\n",
       "</table>\n",
       "</div>"
      ],
      "text/plain": [
       "   A   B  C\n",
       "0  3   5  1\n",
       "1  8   2  7\n",
       "2  6   9  4\n",
       "3  2  32  5\n",
       "4  9  11  2"
      ]
     },
     "execution_count": 100,
     "metadata": {},
     "output_type": "execute_result"
    }
   ],
   "source": [
    "data = {'A':[3,8,6,2,9],  'B':[5,2,9,32,11],  'C':[1,7,4,5,2]}\n",
    "df = pd.DataFrame(data)\n",
    "df"
   ]
  },
  {
   "cell_type": "code",
   "execution_count": 101,
   "id": "a1ef4b7c-7ea1-4f54-bc1c-8263b4d0681e",
   "metadata": {},
   "outputs": [
    {
     "data": {
      "text/html": [
       "<div>\n",
       "<style scoped>\n",
       "    .dataframe tbody tr th:only-of-type {\n",
       "        vertical-align: middle;\n",
       "    }\n",
       "\n",
       "    .dataframe tbody tr th {\n",
       "        vertical-align: top;\n",
       "    }\n",
       "\n",
       "    .dataframe thead th {\n",
       "        text-align: right;\n",
       "    }\n",
       "</style>\n",
       "<table border=\"1\" class=\"dataframe\">\n",
       "  <thead>\n",
       "    <tr style=\"text-align: right;\">\n",
       "      <th></th>\n",
       "      <th>A</th>\n",
       "      <th>B</th>\n",
       "      <th>C</th>\n",
       "    </tr>\n",
       "  </thead>\n",
       "  <tbody>\n",
       "    <tr>\n",
       "      <th>1</th>\n",
       "      <td>8</td>\n",
       "      <td>2</td>\n",
       "      <td>7</td>\n",
       "    </tr>\n",
       "    <tr>\n",
       "      <th>2</th>\n",
       "      <td>6</td>\n",
       "      <td>9</td>\n",
       "      <td>4</td>\n",
       "    </tr>\n",
       "  </tbody>\n",
       "</table>\n",
       "</div>"
      ],
      "text/plain": [
       "   A  B  C\n",
       "1  8  2  7\n",
       "2  6  9  4"
      ]
     },
     "execution_count": 101,
     "metadata": {},
     "output_type": "execute_result"
    }
   ],
   "source": [
    "select_rows(df)"
   ]
  },
  {
   "cell_type": "code",
   "execution_count": null,
   "id": "b4bd05e5-6d68-428c-b409-0fc6413f2c5f",
   "metadata": {},
   "outputs": [],
   "source": []
  },
  {
   "cell_type": "markdown",
   "id": "dfbd5dd6-d90c-4dff-8c51-7f1398618a20",
   "metadata": {},
   "source": [
    "# 9"
   ]
  },
  {
   "cell_type": "code",
   "execution_count": null,
   "id": "907830b8-a60f-4fc0-8b97-1e203c6de260",
   "metadata": {},
   "outputs": [],
   "source": [
    "def calculate_stats(df):\n",
    "    mean = df['Values'].mean()\n",
    "    median = df['Values'].median()\n",
    "    std_dev = df['Values'].std()\n",
    "    print(\"Mean: \", mean)\n",
    "    print(\"Median: \", median)\n",
    "    print(\"Standard Deviation: \", std_dev)\n"
   ]
  },
  {
   "cell_type": "code",
   "execution_count": null,
   "id": "175ce4e1-5ce0-4ad8-9021-7efb9d14c1d8",
   "metadata": {},
   "outputs": [],
   "source": []
  },
  {
   "cell_type": "markdown",
   "id": "cff19679-226a-4ac1-a729-f298b119b13a",
   "metadata": {},
   "source": [
    "# 10"
   ]
  },
  {
   "cell_type": "code",
   "execution_count": null,
   "id": "edfde5f3-5fa0-4fae-bf80-555957a83a08",
   "metadata": {},
   "outputs": [],
   "source": [
    "def calculate_moving_average(df):\n",
    "    ma = df['Sales'].rolling(window=7, min_periods=1).mean()\n",
    "    df['MovingAverage'] = ma\n",
    "    return df\n"
   ]
  },
  {
   "cell_type": "code",
   "execution_count": null,
   "id": "b32224c0-84af-44b0-867b-9295f739af77",
   "metadata": {},
   "outputs": [],
   "source": []
  },
  {
   "cell_type": "markdown",
   "id": "be2d2110-c03a-457d-9399-51483c118478",
   "metadata": {},
   "source": [
    "# 11"
   ]
  },
  {
   "cell_type": "code",
   "execution_count": 7,
   "id": "85921bff-8de4-4a30-930d-b3e13a3290a0",
   "metadata": {},
   "outputs": [],
   "source": [
    "\n",
    "# Create a sample DataFrame with a 'Date' column\n",
    "df = pd.DataFrame({'Date': ['2023-01-01', '2023-01-02', '2023-01-03', '2023-01-04', '2023-01-05']})\n",
    "\n",
    "# Convert the 'Date' column to a datetime format\n",
    "df['Date'] = pd.to_datetime(df['Date'])\n",
    "\n",
    "# Create a new column called 'Weekday' with the weekday name\n",
    "df['Weekday'] = df['Date'].dt.day_name()\n"
   ]
  },
  {
   "cell_type": "code",
   "execution_count": 8,
   "id": "83d4b1cb-61f2-4361-aead-4b2b0e2118d4",
   "metadata": {},
   "outputs": [
    {
     "data": {
      "text/html": [
       "<div>\n",
       "<style scoped>\n",
       "    .dataframe tbody tr th:only-of-type {\n",
       "        vertical-align: middle;\n",
       "    }\n",
       "\n",
       "    .dataframe tbody tr th {\n",
       "        vertical-align: top;\n",
       "    }\n",
       "\n",
       "    .dataframe thead th {\n",
       "        text-align: right;\n",
       "    }\n",
       "</style>\n",
       "<table border=\"1\" class=\"dataframe\">\n",
       "  <thead>\n",
       "    <tr style=\"text-align: right;\">\n",
       "      <th></th>\n",
       "      <th>Date</th>\n",
       "      <th>Weekday</th>\n",
       "    </tr>\n",
       "  </thead>\n",
       "  <tbody>\n",
       "    <tr>\n",
       "      <th>0</th>\n",
       "      <td>2023-01-01</td>\n",
       "      <td>Sunday</td>\n",
       "    </tr>\n",
       "    <tr>\n",
       "      <th>1</th>\n",
       "      <td>2023-01-02</td>\n",
       "      <td>Monday</td>\n",
       "    </tr>\n",
       "    <tr>\n",
       "      <th>2</th>\n",
       "      <td>2023-01-03</td>\n",
       "      <td>Tuesday</td>\n",
       "    </tr>\n",
       "    <tr>\n",
       "      <th>3</th>\n",
       "      <td>2023-01-04</td>\n",
       "      <td>Wednesday</td>\n",
       "    </tr>\n",
       "    <tr>\n",
       "      <th>4</th>\n",
       "      <td>2023-01-05</td>\n",
       "      <td>Thursday</td>\n",
       "    </tr>\n",
       "  </tbody>\n",
       "</table>\n",
       "</div>"
      ],
      "text/plain": [
       "        Date    Weekday\n",
       "0 2023-01-01     Sunday\n",
       "1 2023-01-02     Monday\n",
       "2 2023-01-03    Tuesday\n",
       "3 2023-01-04  Wednesday\n",
       "4 2023-01-05   Thursday"
      ]
     },
     "execution_count": 8,
     "metadata": {},
     "output_type": "execute_result"
    }
   ],
   "source": [
    "df"
   ]
  },
  {
   "cell_type": "code",
   "execution_count": null,
   "id": "59a63c90-7be9-44e8-a861-bed743febf48",
   "metadata": {},
   "outputs": [],
   "source": []
  },
  {
   "cell_type": "markdown",
   "id": "0970fd7b-2492-4de7-ab8b-cbaa8661027d",
   "metadata": {},
   "source": [
    "# 12"
   ]
  },
  {
   "cell_type": "code",
   "execution_count": 10,
   "id": "dd00ba3e-f20a-4c9b-9e9a-25924206fd3c",
   "metadata": {},
   "outputs": [],
   "source": [
    "\n",
    "def select_dates(df):\n",
    "    df['Date'] = pd.to_datetime(df['Date'])\n",
    "    mask = (df['Date'] >= '2023-01-01') & (df['Date'] <= '2023-01-31')\n",
    "    return df[mask]\n"
   ]
  },
  {
   "cell_type": "code",
   "execution_count": 13,
   "id": "5dfa95e4-8c7b-4bde-9d1a-32f023da8a37",
   "metadata": {},
   "outputs": [],
   "source": [
    "df = pd.DataFrame({'Date': ['2023-01-25', '2023-02-26', '2023-01-27', '2023-02-28', '2023-03-01']})"
   ]
  },
  {
   "cell_type": "code",
   "execution_count": 14,
   "id": "a5e39288-d16e-41f2-a6bd-73bfe31a0101",
   "metadata": {},
   "outputs": [
    {
     "data": {
      "text/html": [
       "<div>\n",
       "<style scoped>\n",
       "    .dataframe tbody tr th:only-of-type {\n",
       "        vertical-align: middle;\n",
       "    }\n",
       "\n",
       "    .dataframe tbody tr th {\n",
       "        vertical-align: top;\n",
       "    }\n",
       "\n",
       "    .dataframe thead th {\n",
       "        text-align: right;\n",
       "    }\n",
       "</style>\n",
       "<table border=\"1\" class=\"dataframe\">\n",
       "  <thead>\n",
       "    <tr style=\"text-align: right;\">\n",
       "      <th></th>\n",
       "      <th>Date</th>\n",
       "    </tr>\n",
       "  </thead>\n",
       "  <tbody>\n",
       "    <tr>\n",
       "      <th>0</th>\n",
       "      <td>2023-01-25</td>\n",
       "    </tr>\n",
       "    <tr>\n",
       "      <th>2</th>\n",
       "      <td>2023-01-27</td>\n",
       "    </tr>\n",
       "  </tbody>\n",
       "</table>\n",
       "</div>"
      ],
      "text/plain": [
       "        Date\n",
       "0 2023-01-25\n",
       "2 2023-01-27"
      ]
     },
     "execution_count": 14,
     "metadata": {},
     "output_type": "execute_result"
    }
   ],
   "source": [
    "select_dates(df)"
   ]
  },
  {
   "cell_type": "code",
   "execution_count": null,
   "id": "58612c67-7260-46e7-8964-05e896be4775",
   "metadata": {},
   "outputs": [],
   "source": []
  },
  {
   "cell_type": "markdown",
   "id": "35845606-6bae-4a72-89e4-b921598d1706",
   "metadata": {},
   "source": [
    "# 13"
   ]
  },
  {
   "cell_type": "code",
   "execution_count": null,
   "id": "605fa477-aa56-4dad-8c10-bf424f33dbc5",
   "metadata": {},
   "outputs": [],
   "source": [
    "'''\n",
    "The first and foremost necessary library that needs to be imported to use the basic functions of Pandas is pandas itself.\n",
    "'''"
   ]
  }
 ],
 "metadata": {
  "kernelspec": {
   "display_name": "Python 3 (ipykernel)",
   "language": "python",
   "name": "python3"
  },
  "language_info": {
   "codemirror_mode": {
    "name": "ipython",
    "version": 3
   },
   "file_extension": ".py",
   "mimetype": "text/x-python",
   "name": "python",
   "nbconvert_exporter": "python",
   "pygments_lexer": "ipython3",
   "version": "3.10.8"
  }
 },
 "nbformat": 4,
 "nbformat_minor": 5
}
