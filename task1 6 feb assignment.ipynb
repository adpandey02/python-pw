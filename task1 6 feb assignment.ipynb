{
 "cells": [
  {
   "cell_type": "markdown",
   "id": "9f07d85a-cb1f-4042-8c49-2d4587b08345",
   "metadata": {},
   "source": [
    "## 1"
   ]
  },
  {
   "cell_type": "code",
   "execution_count": 2,
   "id": "171fa112-b35f-4146-a1ce-cd9d6c3eabf6",
   "metadata": {},
   "outputs": [
    {
     "name": "stdout",
     "output_type": "stream",
     "text": [
      "[1, 2, 3, 4, 44, 55, 66, 34, 56, 78, 89, 34, 1, 2, 3, 1, 4, 34, 55, 67, 78, 89, 45, 22, 61, 34, 56]\n"
     ]
    }
   ],
   "source": [
    "list1 = [1,2,3,4, [44,55,66, True], False, (34,56,78,89,34), {1,2,3,3,2,1}, {1:34, \"key2\": [55, 67, 78, 89], 4: (45, 22, 61, 34)}, [56, 'data science'], 'Machine Learning']\n",
    "\n",
    "def product(lst):\n",
    "    flatList=[]\n",
    "    for i in lst:\n",
    "        if type(i)==list or type(i)==tuple or type(i)==set:\n",
    "            for j in i:\n",
    "                if type(j)==int:\n",
    "                    flatList.append(j)\n",
    "        elif type(i)==dict:\n",
    "            for a in i.keys():\n",
    "                if type(a)==int:\n",
    "                    flatList.append(a)\n",
    "            for b in i.values():\n",
    "                if type(b)==int:\n",
    "                    flatList.append(b)\n",
    "                if type(b)==list or type(b)==tuple:\n",
    "                    for c in b:\n",
    "                        if type(c)==int:\n",
    "                            flatList.append(c)\n",
    "        else:\n",
    "            if type(i)==int:\n",
    "                flatList.append(i)\n",
    "    return flatList\n",
    "\n",
    "print(product(list1))"
   ]
  },
  {
   "cell_type": "code",
   "execution_count": null,
   "id": "755032e3-ba4a-41a9-982c-63e6205f5dce",
   "metadata": {},
   "outputs": [],
   "source": []
  },
  {
   "cell_type": "markdown",
   "id": "03676e40-b7ec-4feb-8e52-7e9bff976c36",
   "metadata": {},
   "source": [
    "## 2"
   ]
  },
  {
   "cell_type": "code",
   "execution_count": 47,
   "id": "51167ca6-b82a-497c-ada2-cd8a4d5d8a51",
   "metadata": {},
   "outputs": [],
   "source": [
    "actual = ['a', 'b', 'c', 'd', 'e', 'f', 'g', 'h', 'i', 'j', 'k', 'l', 'm', 'n', 'o', 'p', 'q', 'r', 's', 't', 'u', 'v', 'w', 'x', 'y' ,'z']"
   ]
  },
  {
   "cell_type": "code",
   "execution_count": 48,
   "id": "399f5537-564d-4845-bb2f-036bbd7f2b20",
   "metadata": {},
   "outputs": [],
   "source": [
    "def encrypt(message):\n",
    "    str_in_list = [i for i in message.lower()]\n",
    "    trans_list = ['$' if x==' ' else x for x in str_in_list]\n",
    "    for i in range(len(trans_list)):\n",
    "        if trans_list[i].isalpha():\n",
    "            index = actual.index(trans_list[i])\n",
    "            trans_list[i] = list(reversed(actual))[index]\n",
    "    encrypted = ''\n",
    "    for j in trans_list:\n",
    "        encrypted+=j\n",
    "    return encrypted     "
   ]
  },
  {
   "cell_type": "code",
   "execution_count": 49,
   "id": "706e2b63-6aae-46cd-813a-37cd6790e033",
   "metadata": {},
   "outputs": [
    {
     "data": {
      "text/plain": [
       "'r$dzmg$gl$yvxlnv$z$wzgz$hxrvmgrhg'"
      ]
     },
     "execution_count": 49,
     "metadata": {},
     "output_type": "execute_result"
    }
   ],
   "source": [
    "encrypt('I want to become a Data Scientist')"
   ]
  },
  {
   "cell_type": "code",
   "execution_count": null,
   "id": "6fba4342-0613-4db3-8eab-5974956fb154",
   "metadata": {},
   "outputs": [],
   "source": []
  }
 ],
 "metadata": {
  "kernelspec": {
   "display_name": "Python 3 (ipykernel)",
   "language": "python",
   "name": "python3"
  },
  "language_info": {
   "codemirror_mode": {
    "name": "ipython",
    "version": 3
   },
   "file_extension": ".py",
   "mimetype": "text/x-python",
   "name": "python",
   "nbconvert_exporter": "python",
   "pygments_lexer": "ipython3",
   "version": "3.10.8"
  }
 },
 "nbformat": 4,
 "nbformat_minor": 5
}
