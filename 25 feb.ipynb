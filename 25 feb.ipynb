{
 "cells": [
  {
   "cell_type": "code",
   "execution_count": 3,
   "id": "10ec7abc-2813-41f2-a97f-b2a87e0f1538",
   "metadata": {},
   "outputs": [],
   "source": [
    "import pandas as pd\n",
    "course_name = ['Data Science', 'Machine Learning', 'Big Data', 'Data Engineer']\n",
    "duration = [2,3,6,4]\n",
    "df = pd.DataFrame(data = {'course_name' : course_name, 'duration' : duration})"
   ]
  },
  {
   "cell_type": "code",
   "execution_count": 4,
   "id": "e062c5c2-8db1-4058-abe4-aa7fba93521e",
   "metadata": {},
   "outputs": [
    {
     "data": {
      "text/html": [
       "<div>\n",
       "<style scoped>\n",
       "    .dataframe tbody tr th:only-of-type {\n",
       "        vertical-align: middle;\n",
       "    }\n",
       "\n",
       "    .dataframe tbody tr th {\n",
       "        vertical-align: top;\n",
       "    }\n",
       "\n",
       "    .dataframe thead th {\n",
       "        text-align: right;\n",
       "    }\n",
       "</style>\n",
       "<table border=\"1\" class=\"dataframe\">\n",
       "  <thead>\n",
       "    <tr style=\"text-align: right;\">\n",
       "      <th></th>\n",
       "      <th>course_name</th>\n",
       "      <th>duration</th>\n",
       "    </tr>\n",
       "  </thead>\n",
       "  <tbody>\n",
       "    <tr>\n",
       "      <th>0</th>\n",
       "      <td>Data Science</td>\n",
       "      <td>2</td>\n",
       "    </tr>\n",
       "    <tr>\n",
       "      <th>1</th>\n",
       "      <td>Machine Learning</td>\n",
       "      <td>3</td>\n",
       "    </tr>\n",
       "    <tr>\n",
       "      <th>2</th>\n",
       "      <td>Big Data</td>\n",
       "      <td>6</td>\n",
       "    </tr>\n",
       "    <tr>\n",
       "      <th>3</th>\n",
       "      <td>Data Engineer</td>\n",
       "      <td>4</td>\n",
       "    </tr>\n",
       "  </tbody>\n",
       "</table>\n",
       "</div>"
      ],
      "text/plain": [
       "        course_name  duration\n",
       "0      Data Science         2\n",
       "1  Machine Learning         3\n",
       "2          Big Data         6\n",
       "3     Data Engineer         4"
      ]
     },
     "execution_count": 4,
     "metadata": {},
     "output_type": "execute_result"
    }
   ],
   "source": [
    "df"
   ]
  },
  {
   "cell_type": "markdown",
   "id": "76a24488-a899-46f0-bdc4-8cdb652492ba",
   "metadata": {},
   "source": [
    "# 1"
   ]
  },
  {
   "cell_type": "code",
   "execution_count": 6,
   "id": "1f4d71a5-3ca1-482f-ae58-f4d132e79947",
   "metadata": {},
   "outputs": [
    {
     "data": {
      "text/plain": [
       "course_name    Machine Learning\n",
       "duration                      3\n",
       "Name: 1, dtype: object"
      ]
     },
     "execution_count": 6,
     "metadata": {},
     "output_type": "execute_result"
    }
   ],
   "source": [
    "df.iloc[1]"
   ]
  },
  {
   "cell_type": "markdown",
   "id": "23d7b333-77f0-4c6a-a320-11429e9ac52e",
   "metadata": {},
   "source": [
    "# 2"
   ]
  },
  {
   "cell_type": "code",
   "execution_count": null,
   "id": "d5f345ed-9ca5-4155-a581-27f9b0aa0734",
   "metadata": {},
   "outputs": [],
   "source": [
    "'''\n",
    "In Pandas, both loc and iloc are used to index and select data from a DataFrame, but they differ in how they identify and select the data.\n",
    "\n",
    "loc selects rows and columns based on their labels (names).\n",
    "iloc selects rows and columns based on their integer positions (indexes).\n",
    "More specifically, loc requires that you pass in the label of the rows and columns you want to select as arguments,\n",
    "while iloc requires that you pass in their integer position. \n",
    "'''"
   ]
  },
  {
   "cell_type": "markdown",
   "id": "61440e75-53c9-44b7-a138-99f5c3701a0d",
   "metadata": {},
   "source": [
    "# 3"
   ]
  },
  {
   "cell_type": "code",
   "execution_count": 7,
   "id": "ff6843da-8be5-4e0c-823e-f61833020674",
   "metadata": {},
   "outputs": [
    {
     "data": {
      "text/html": [
       "<div>\n",
       "<style scoped>\n",
       "    .dataframe tbody tr th:only-of-type {\n",
       "        vertical-align: middle;\n",
       "    }\n",
       "\n",
       "    .dataframe tbody tr th {\n",
       "        vertical-align: top;\n",
       "    }\n",
       "\n",
       "    .dataframe thead th {\n",
       "        text-align: right;\n",
       "    }\n",
       "</style>\n",
       "<table border=\"1\" class=\"dataframe\">\n",
       "  <thead>\n",
       "    <tr style=\"text-align: right;\">\n",
       "      <th></th>\n",
       "      <th>course_name</th>\n",
       "      <th>duration</th>\n",
       "    </tr>\n",
       "  </thead>\n",
       "  <tbody>\n",
       "    <tr>\n",
       "      <th>3</th>\n",
       "      <td>Data Engineer</td>\n",
       "      <td>4</td>\n",
       "    </tr>\n",
       "    <tr>\n",
       "      <th>0</th>\n",
       "      <td>Data Science</td>\n",
       "      <td>2</td>\n",
       "    </tr>\n",
       "    <tr>\n",
       "      <th>1</th>\n",
       "      <td>Machine Learning</td>\n",
       "      <td>3</td>\n",
       "    </tr>\n",
       "    <tr>\n",
       "      <th>2</th>\n",
       "      <td>Big Data</td>\n",
       "      <td>6</td>\n",
       "    </tr>\n",
       "  </tbody>\n",
       "</table>\n",
       "</div>"
      ],
      "text/plain": [
       "        course_name  duration\n",
       "3     Data Engineer         4\n",
       "0      Data Science         2\n",
       "1  Machine Learning         3\n",
       "2          Big Data         6"
      ]
     },
     "execution_count": 7,
     "metadata": {},
     "output_type": "execute_result"
    }
   ],
   "source": [
    "re_index = [3,0,1,2]\n",
    "new_df = df.reindex(re_index)\n",
    "new_df"
   ]
  },
  {
   "cell_type": "code",
   "execution_count": 8,
   "id": "650ae4a5-cf23-4340-95cd-4cbd3888839b",
   "metadata": {},
   "outputs": [
    {
     "data": {
      "text/plain": [
       "course_name    Big Data\n",
       "duration              6\n",
       "Name: 2, dtype: object"
      ]
     },
     "execution_count": 8,
     "metadata": {},
     "output_type": "execute_result"
    }
   ],
   "source": [
    "new_df.loc[2]  "
   ]
  },
  {
   "cell_type": "code",
   "execution_count": 9,
   "id": "77e780a1-b644-4ef2-afd6-eacd0649cc55",
   "metadata": {},
   "outputs": [
    {
     "data": {
      "text/plain": [
       "course_name    Machine Learning\n",
       "duration                      3\n",
       "Name: 1, dtype: object"
      ]
     },
     "execution_count": 9,
     "metadata": {},
     "output_type": "execute_result"
    }
   ],
   "source": [
    "new_df.iloc[2]"
   ]
  },
  {
   "cell_type": "code",
   "execution_count": null,
   "id": "77945ae8-75db-4429-96de-953103cd2e89",
   "metadata": {},
   "outputs": [],
   "source": [
    "'''\n",
    "the rows order is changes , since we reassigned the indexed\n",
    "'''"
   ]
  },
  {
   "cell_type": "markdown",
   "id": "a618c863-f80a-4ef8-b449-58474d25f8a3",
   "metadata": {},
   "source": [
    "# new code for further questions"
   ]
  },
  {
   "cell_type": "code",
   "execution_count": 10,
   "id": "691eb8ec-beb0-4fe1-990e-b26c7fadaeaf",
   "metadata": {},
   "outputs": [],
   "source": [
    "import numpy as np\n",
    "columns = ['column_1', 'column_2', 'column_3', 'column_4', 'column_5', 'column_6']\n",
    "indices = [1,2,3,4,5,6]\n",
    "#Creating a dataframe:\n",
    "df1 = pd.DataFrame(np.random.rand(6,6), columns = columns, index = indices)"
   ]
  },
  {
   "cell_type": "code",
   "execution_count": 11,
   "id": "8722737f-a116-4400-a58b-8ecf0569d594",
   "metadata": {},
   "outputs": [
    {
     "data": {
      "text/html": [
       "<div>\n",
       "<style scoped>\n",
       "    .dataframe tbody tr th:only-of-type {\n",
       "        vertical-align: middle;\n",
       "    }\n",
       "\n",
       "    .dataframe tbody tr th {\n",
       "        vertical-align: top;\n",
       "    }\n",
       "\n",
       "    .dataframe thead th {\n",
       "        text-align: right;\n",
       "    }\n",
       "</style>\n",
       "<table border=\"1\" class=\"dataframe\">\n",
       "  <thead>\n",
       "    <tr style=\"text-align: right;\">\n",
       "      <th></th>\n",
       "      <th>column_1</th>\n",
       "      <th>column_2</th>\n",
       "      <th>column_3</th>\n",
       "      <th>column_4</th>\n",
       "      <th>column_5</th>\n",
       "      <th>column_6</th>\n",
       "    </tr>\n",
       "  </thead>\n",
       "  <tbody>\n",
       "    <tr>\n",
       "      <th>1</th>\n",
       "      <td>0.055973</td>\n",
       "      <td>0.160190</td>\n",
       "      <td>0.348088</td>\n",
       "      <td>0.742975</td>\n",
       "      <td>0.691448</td>\n",
       "      <td>0.206250</td>\n",
       "    </tr>\n",
       "    <tr>\n",
       "      <th>2</th>\n",
       "      <td>0.244945</td>\n",
       "      <td>0.187906</td>\n",
       "      <td>0.141157</td>\n",
       "      <td>0.700442</td>\n",
       "      <td>0.242679</td>\n",
       "      <td>0.268791</td>\n",
       "    </tr>\n",
       "    <tr>\n",
       "      <th>3</th>\n",
       "      <td>0.133901</td>\n",
       "      <td>0.752579</td>\n",
       "      <td>0.639144</td>\n",
       "      <td>0.454914</td>\n",
       "      <td>0.186010</td>\n",
       "      <td>0.314908</td>\n",
       "    </tr>\n",
       "    <tr>\n",
       "      <th>4</th>\n",
       "      <td>0.266760</td>\n",
       "      <td>0.581849</td>\n",
       "      <td>0.507381</td>\n",
       "      <td>0.088809</td>\n",
       "      <td>0.406871</td>\n",
       "      <td>0.314565</td>\n",
       "    </tr>\n",
       "    <tr>\n",
       "      <th>5</th>\n",
       "      <td>0.693706</td>\n",
       "      <td>0.662498</td>\n",
       "      <td>0.964808</td>\n",
       "      <td>0.002028</td>\n",
       "      <td>0.420110</td>\n",
       "      <td>0.820210</td>\n",
       "    </tr>\n",
       "    <tr>\n",
       "      <th>6</th>\n",
       "      <td>0.188388</td>\n",
       "      <td>0.262943</td>\n",
       "      <td>0.031248</td>\n",
       "      <td>0.431154</td>\n",
       "      <td>0.854086</td>\n",
       "      <td>0.372927</td>\n",
       "    </tr>\n",
       "  </tbody>\n",
       "</table>\n",
       "</div>"
      ],
      "text/plain": [
       "   column_1  column_2  column_3  column_4  column_5  column_6\n",
       "1  0.055973  0.160190  0.348088  0.742975  0.691448  0.206250\n",
       "2  0.244945  0.187906  0.141157  0.700442  0.242679  0.268791\n",
       "3  0.133901  0.752579  0.639144  0.454914  0.186010  0.314908\n",
       "4  0.266760  0.581849  0.507381  0.088809  0.406871  0.314565\n",
       "5  0.693706  0.662498  0.964808  0.002028  0.420110  0.820210\n",
       "6  0.188388  0.262943  0.031248  0.431154  0.854086  0.372927"
      ]
     },
     "execution_count": 11,
     "metadata": {},
     "output_type": "execute_result"
    }
   ],
   "source": [
    "df1"
   ]
  },
  {
   "cell_type": "markdown",
   "id": "7f5596ef-d430-49c8-b8b5-de4a645bd1df",
   "metadata": {},
   "source": [
    "# 4"
   ]
  },
  {
   "cell_type": "code",
   "execution_count": 17,
   "id": "33d2b60a-cdcd-4961-bf46-b1f253ae262d",
   "metadata": {},
   "outputs": [
    {
     "data": {
      "text/plain": [
       "column_1    0.263945\n",
       "column_2    0.434661\n",
       "column_3    0.438638\n",
       "column_4    0.403387\n",
       "column_5    0.466867\n",
       "column_6    0.382942\n",
       "dtype: float64"
      ]
     },
     "execution_count": 17,
     "metadata": {},
     "output_type": "execute_result"
    }
   ],
   "source": [
    "df1.mean(axis=0)"
   ]
  },
  {
   "cell_type": "code",
   "execution_count": 21,
   "id": "02fc1054-f1c7-48de-8253-e24ebd9d7b83",
   "metadata": {},
   "outputs": [
    {
     "data": {
      "text/plain": [
       "0.26090427186958487"
      ]
     },
     "execution_count": 21,
     "metadata": {},
     "output_type": "execute_result"
    }
   ],
   "source": [
    "df1['column_2'].std()"
   ]
  },
  {
   "cell_type": "markdown",
   "id": "cfb5dfb0-1d30-40b3-b0bd-326022f15a52",
   "metadata": {},
   "source": [
    "# 5"
   ]
  },
  {
   "cell_type": "code",
   "execution_count": 24,
   "id": "65e3d8a4-0db0-40f0-a996-7c169ca41754",
   "metadata": {},
   "outputs": [],
   "source": [
    "df1.loc[2, 'column_2'] = 'ok'"
   ]
  },
  {
   "cell_type": "code",
   "execution_count": 28,
   "id": "d49d5843-2158-4f84-b115-dc187b3cd3f1",
   "metadata": {},
   "outputs": [
    {
     "name": "stdout",
     "output_type": "stream",
     "text": [
      "string is between the values in clumn 2 which i inserted in last question, only int object can b used in mean()\n"
     ]
    }
   ],
   "source": [
    "try:\n",
    "    df1['column_2'].mean()\n",
    "except TypeError:\n",
    "    print('string is between the values in clumn 2 which i inserted in last question, only int object can b used in mean()')"
   ]
  },
  {
   "cell_type": "markdown",
   "id": "b095b50a-6acd-4d51-8466-3d0cebafa693",
   "metadata": {},
   "source": [
    "# 6"
   ]
  },
  {
   "cell_type": "code",
   "execution_count": null,
   "id": "7cd8a081-d67f-4bf4-815c-b5d69df8d9e5",
   "metadata": {},
   "outputs": [],
   "source": [
    "'''\n",
    "In Pandas, the term \"window function\" refers to a group of functions that operate on a rolling or expanding window of\n",
    "data in a DataFrame or Series. These functions can be useful for calculating movig statistics, smoothing out noisy data,\n",
    "and detecting trends or patterns in time-series data.\n",
    "\n",
    "Rolling window functions: These functions operate on a sliding window of a fixed size and perform calculations on \n",
    "the data within the window. The window size can be specified using the window parameter. Examples of rolling window\n",
    "functions include rolling.mean(), rolling.sum(), and rolling.std(), among others.'''"
   ]
  },
  {
   "cell_type": "markdown",
   "id": "36e8177d-fb76-4b6f-a946-283db98a46f0",
   "metadata": {},
   "source": [
    "# 7"
   ]
  },
  {
   "cell_type": "code",
   "execution_count": 36,
   "id": "f32a33eb-f166-4555-b703-b8c32cc3965a",
   "metadata": {},
   "outputs": [
    {
     "name": "stdout",
     "output_type": "stream",
     "text": [
      "      month  year\n",
      "0  February  2023\n"
     ]
    },
    {
     "name": "stderr",
     "output_type": "stream",
     "text": [
      "/tmp/ipykernel_70/2330655833.py:1: FutureWarning: The parsing of 'now' in pd.to_datetime without `utc=True` is deprecated. In a future version, this will match Timestamp('now') and Timestamp.now()\n",
      "  now = pd.to_datetime('now')\n"
     ]
    }
   ],
   "source": [
    "now = pd.to_datetime('now')\n",
    "df = pd.DataFrame({'date': [now]})\n",
    "df['month'] = df['date'].dt.month_name()\n",
    "df['year'] = df['date'].dt.year\n",
    "print(df[['month', 'year']])\n"
   ]
  },
  {
   "cell_type": "markdown",
   "id": "8f89c175-0b1b-4e9d-85e4-000a08671404",
   "metadata": {},
   "source": [
    "# or we can do this , since above one will be depreciated soon"
   ]
  },
  {
   "cell_type": "code",
   "execution_count": 40,
   "id": "3844091d-4065-45c3-9479-94cfc0625e25",
   "metadata": {},
   "outputs": [],
   "source": [
    "import datetime\n",
    "now = datetime.datetime.now()"
   ]
  },
  {
   "cell_type": "code",
   "execution_count": 46,
   "id": "c385dcf8-1aa4-48d4-9bfd-b66d5689fe96",
   "metadata": {},
   "outputs": [
    {
     "data": {
      "text/plain": [
       "2"
      ]
     },
     "execution_count": 46,
     "metadata": {},
     "output_type": "execute_result"
    }
   ],
   "source": [
    "now.month"
   ]
  },
  {
   "cell_type": "code",
   "execution_count": 42,
   "id": "2b7bb6da-36a2-4cec-aa7e-1dd34e8fe9e2",
   "metadata": {},
   "outputs": [
    {
     "data": {
      "text/plain": [
       "2023"
      ]
     },
     "execution_count": 42,
     "metadata": {},
     "output_type": "execute_result"
    }
   ],
   "source": [
    "now.year"
   ]
  },
  {
   "cell_type": "code",
   "execution_count": null,
   "id": "80d9da1d-f7fc-458d-82a2-6bdd1587881c",
   "metadata": {},
   "outputs": [],
   "source": []
  },
  {
   "cell_type": "markdown",
   "id": "596da568-a3d3-43b2-8971-55219302df81",
   "metadata": {},
   "source": [
    "# 8"
   ]
  },
  {
   "cell_type": "code",
   "execution_count": 50,
   "id": "1c8c6652-3a95-4365-aaab-4d37140a09fe",
   "metadata": {},
   "outputs": [
    {
     "name": "stdin",
     "output_type": "stream",
     "text": [
      "Enter the first date (YYYY-MM-DD):  2023-02-25\n",
      "Enter the second date (YYYY-MM-DD):  2023-02-28\n"
     ]
    },
    {
     "name": "stdout",
     "output_type": "stream",
     "text": [
      "Time difference: 3 days, 0 hours, 0 minutes\n"
     ]
    }
   ],
   "source": [
    "\n",
    "date1_str = input(\"Enter the first date (YYYY-MM-DD): \")\n",
    "date1 = pd.to_datetime(date1_str)\n",
    "\n",
    "date2_str = input(\"Enter the second date (YYYY-MM-DD): \")\n",
    "date2 = pd.to_datetime(date2_str)\n",
    "\n",
    "time_diff = date2 - date1\n",
    "days = time_diff.days\n",
    "hours = time_diff.seconds // 3600\n",
    "minutes = (time_diff.seconds // 60) % 60\n",
    "\n",
    "# Display the result\n",
    "print(\"Time difference: {} days, {} hours, {} minutes\".format(days, hours, minutes))\n"
   ]
  },
  {
   "cell_type": "markdown",
   "id": "37638f1a-2965-4bd3-b9b0-fe964ec57918",
   "metadata": {},
   "source": [
    "# 9"
   ]
  },
  {
   "cell_type": "code",
   "execution_count": 64,
   "id": "db4596ab-aac0-48f9-ace0-f66459fca3df",
   "metadata": {},
   "outputs": [
    {
     "name": "stdin",
     "output_type": "stream",
     "text": [
      "Enter the file path:  25feb_data.csv\n",
      "Enter the column name to be converted:  Color\n",
      "Enter the category order (comma-separated):  Purple,Orange,Red,Yellow\n"
     ]
    },
    {
     "name": "stdout",
     "output_type": "stream",
     "text": [
      "     Name   Color    Size\n",
      "2   Grape  Purple   Small\n",
      "3  Orange  Orange  Medium\n",
      "0   Apple     Red   Small\n",
      "1  Banana  Yellow  Medium\n"
     ]
    }
   ],
   "source": [
    "import pandas as pd\n",
    "\n",
    "# Prompt the user to enter the file path\n",
    "file_path = input(\"Enter the file path: \")\n",
    "\n",
    "# Prompt the user to enter the column name to be converted\n",
    "column_name = input(\"Enter the column name to be converted: \")\n",
    "\n",
    "# Prompt the user to enter the category order\n",
    "category_order = input(\"Enter the category order (comma-separated): \")\n",
    "\n",
    "# Read the CSV file into a DataFrame\n",
    "df = pd.read_csv(file_path)\n",
    "\n",
    "# Convert the specified column to a categorical data type with the specified order\n",
    "categories = category_order.split(\",\")\n",
    "cat_dtype = pd.api.types.CategoricalDtype(categories=categories, ordered=True)\n",
    "df[column_name] = df[column_name].astype(cat_dtype)\n",
    "\n",
    "# Sort the data by the specified column\n",
    "sorted_data = df.sort_values(by=column_name)\n",
    "\n",
    "# Display the sorted data\n",
    "print(sorted_data)\n"
   ]
  },
  {
   "cell_type": "markdown",
   "id": "aac07d65-8259-46c1-adf2-a76181435e90",
   "metadata": {},
   "source": [
    "# 10"
   ]
  },
  {
   "cell_type": "code",
   "execution_count": 66,
   "id": "6d45cc23-f2e8-4532-a314-a66a53317012",
   "metadata": {},
   "outputs": [
    {
     "name": "stdin",
     "output_type": "stream",
     "text": [
      "Enter the file path:  25feb_data2.csv\n"
     ]
    }
   ],
   "source": [
    "\n",
    "import matplotlib.pyplot as plt\n",
    "\n",
    "# Prompt the user to enter the file path\n",
    "file_path = input(\"Enter the file path: \")\n",
    "\n",
    "# Read the CSV file into a DataFrame\n",
    "df = pd.read_csv(file_path)\n",
    "\n",
    "# Convert the \"Date\" column to a datetime data type\n",
    "df[\"Date\"] = pd.to_datetime(df[\"Date\"])\n",
    "\n",
    "# Group the data by \"Date\" and \"Product Category\" and sum the \"Sales\" column\n",
    "sales_by_date_category = df.groupby([\"Date\", \"Product Category\"])[\"Sales\"].sum().unstack()"
   ]
  },
  {
   "cell_type": "code",
   "execution_count": 67,
   "id": "0c5c8c5b-65bc-4201-8ddb-eddcc04a4bbf",
   "metadata": {},
   "outputs": [
    {
     "data": {
      "text/html": [
       "<div>\n",
       "<style scoped>\n",
       "    .dataframe tbody tr th:only-of-type {\n",
       "        vertical-align: middle;\n",
       "    }\n",
       "\n",
       "    .dataframe tbody tr th {\n",
       "        vertical-align: top;\n",
       "    }\n",
       "\n",
       "    .dataframe thead th {\n",
       "        text-align: right;\n",
       "    }\n",
       "</style>\n",
       "<table border=\"1\" class=\"dataframe\">\n",
       "  <thead>\n",
       "    <tr style=\"text-align: right;\">\n",
       "      <th>Product Category</th>\n",
       "      <th>Clothing</th>\n",
       "      <th>Electronics</th>\n",
       "    </tr>\n",
       "    <tr>\n",
       "      <th>Date</th>\n",
       "      <th></th>\n",
       "      <th></th>\n",
       "    </tr>\n",
       "  </thead>\n",
       "  <tbody>\n",
       "    <tr>\n",
       "      <th>2022-01-01</th>\n",
       "      <td>500</td>\n",
       "      <td>1000</td>\n",
       "    </tr>\n",
       "    <tr>\n",
       "      <th>2022-01-02</th>\n",
       "      <td>600</td>\n",
       "      <td>1200</td>\n",
       "    </tr>\n",
       "    <tr>\n",
       "      <th>2022-01-03</th>\n",
       "      <td>700</td>\n",
       "      <td>1300</td>\n",
       "    </tr>\n",
       "  </tbody>\n",
       "</table>\n",
       "</div>"
      ],
      "text/plain": [
       "Product Category  Clothing  Electronics\n",
       "Date                                   \n",
       "2022-01-01             500         1000\n",
       "2022-01-02             600         1200\n",
       "2022-01-03             700         1300"
      ]
     },
     "execution_count": 67,
     "metadata": {},
     "output_type": "execute_result"
    }
   ],
   "source": [
    "sales_by_date_category"
   ]
  },
  {
   "cell_type": "code",
   "execution_count": 68,
   "id": "0e60efa3-ce06-4cb3-8aaf-2d3435eaecf2",
   "metadata": {},
   "outputs": [
    {
     "data": {
      "image/png": "[encoded data removed]",
      "text/plain": [
       "<Figure size 640x480 with 1 Axes>"
      ]
     },
     "metadata": {},
     "output_type": "display_data"
    }
   ],
   "source": [
    "sales_by_date_category.plot(kind=\"bar\", stacked=True)\n",
    "\n",
    "# Set the title and axis labels\n",
    "plt.title(\"Sales by Product Category\")\n",
    "plt.xlabel(\"Date\")\n",
    "plt.ylabel(\"Sales\")\n",
    "\n",
    "# Show the chart\n",
    "plt.show()\n"
   ]
  },
  {
   "cell_type": "markdown",
   "id": "78aa95da-6116-42d6-b86f-0c8583db87ee",
   "metadata": {},
   "source": [
    "# 11"
   ]
  },
  {
   "cell_type": "code",
   "execution_count": 70,
   "id": "d5dc2b73-d45a-4138-ad08-e4aa48567ba4",
   "metadata": {},
   "outputs": [
    {
     "name": "stdin",
     "output_type": "stream",
     "text": [
      "Enter the file path of the CSV file containing the student data:  25feb_data3.csv\n"
     ]
    },
    {
     "data": {
      "text/html": [
       "<div>\n",
       "<style scoped>\n",
       "    .dataframe tbody tr th:only-of-type {\n",
       "        vertical-align: middle;\n",
       "    }\n",
       "\n",
       "    .dataframe tbody tr th {\n",
       "        vertical-align: top;\n",
       "    }\n",
       "\n",
       "    .dataframe thead th {\n",
       "        text-align: right;\n",
       "    }\n",
       "</style>\n",
       "<table border=\"1\" class=\"dataframe\">\n",
       "  <thead>\n",
       "    <tr style=\"text-align: right;\">\n",
       "      <th></th>\n",
       "      <th>Statistic</th>\n",
       "      <th>Value</th>\n",
       "    </tr>\n",
       "  </thead>\n",
       "  <tbody>\n",
       "    <tr>\n",
       "      <th>0</th>\n",
       "      <td>Mean</td>\n",
       "      <td>83.5</td>\n",
       "    </tr>\n",
       "    <tr>\n",
       "      <th>1</th>\n",
       "      <td>Median</td>\n",
       "      <td>85.0</td>\n",
       "    </tr>\n",
       "    <tr>\n",
       "      <th>2</th>\n",
       "      <td>Mode</td>\n",
       "      <td>0    85\n",
       "Name: Test Score, dtype: int64</td>\n",
       "    </tr>\n",
       "  </tbody>\n",
       "</table>\n",
       "</div>"
      ],
      "text/plain": [
       "  Statistic                                   Value\n",
       "0      Mean                                    83.5\n",
       "1    Median                                    85.0\n",
       "2      Mode  0    85\n",
       "Name: Test Score, dtype: int64"
      ]
     },
     "execution_count": 70,
     "metadata": {},
     "output_type": "execute_result"
    }
   ],
   "source": [
    "\n",
    "# Prompt the user to enter the file path of the CSV file containing the student data\n",
    "file_path = input(\"Enter the file path of the CSV file containing the student data: \")\n",
    "\n",
    "# Read the CSV file into a Pandas DataFrame\n",
    "df = pd.read_csv(file_path)\n",
    "\n",
    "# Calculate the mean, median, and mode of the test scores\n",
    "mean_score = df['Test Score'].mean()\n",
    "median_score = df['Test Score'].median()\n",
    "mode_scores = df['Test Score'].mode()\n",
    "\n",
    "# Display the mean, median, and mode in a table\n",
    "table = pd.DataFrame({'Statistic': ['Mean', 'Median', 'Mode'], 'Value': [mean_score, median_score, mode_scores]})\n",
    "table\n"
   ]
  },
  {
   "cell_type": "code",
   "execution_count": null,
   "id": "9c3b76d2-37a6-4fb3-b64b-e5732b8f2024",
   "metadata": {},
   "outputs": [],
   "source": []
  }
 ],
 "metadata": {
  "kernelspec": {
   "display_name": "Python 3 (ipykernel)",
   "language": "python",
   "name": "python3"
  },
  "language_info": {
   "codemirror_mode": {
    "name": "ipython",
    "version": 3
   },
   "file_extension": ".py",
   "mimetype": "text/x-python",
   "name": "python",
   "nbconvert_exporter": "python",
   "pygments_lexer": "ipython3",
   "version": "3.10.8"
  }
 },
 "nbformat": 4,
 "nbformat_minor": 5
}
