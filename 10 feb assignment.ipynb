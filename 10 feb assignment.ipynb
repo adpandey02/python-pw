{
 "cells": [
  {
   "cell_type": "markdown",
   "id": "b7d4e18c-365f-4166-b9bb-257015525967",
   "metadata": {},
   "source": [
    "# 1"
   ]
  },
  {
   "cell_type": "code",
   "execution_count": null,
   "id": "3bf2846e-e670-4b36-8bdc-bb7c27411f3b",
   "metadata": {},
   "outputs": [],
   "source": [
    "'''\n",
    "open() is used  to open a file\n",
    "modes ---->\n",
    "Read Only (‘r’) : Open text file for reading. \n",
    "The handle is positioned at the beginning of the file. \n",
    "If the file does not exists, raises the I/O error. \n",
    "This is also the default mode in which a file is opened.\n",
    "Read and Write (‘r+’): Open the file for reading and writing. \n",
    "The handle is positioned at the beginning of the file. Raises I/O error if the file does not exist.\n",
    "Write Only (‘w’) : Open the file for writing. For the existing files, the data is truncated and over-written. \n",
    "The handle is positioned at the beginning of the file. Creates the file if the file does not exist.\n",
    "Write and Read (‘w+’) : Open the file for reading and writing. \n",
    "For an existing file, data is truncated and over-written. The handle is positioned at the beginning of the file.\n",
    "Append Only (‘a’): Open the file for writing.\n",
    "The file is created if it does not exist. \n",
    "The handle is positioned at the end of the file.\n",
    "The data being written will be inserted at the end, after the existing data.\n",
    "Append and Read (‘a+’) : Open the file for reading and writing.\n",
    "The file is created if it does not exist. The handle is positioned at the end of the file.\n",
    "The data being written will be inserted at the end, after the existing data."
   ]
  },
  {
   "cell_type": "markdown",
   "id": "e75f522b-4478-4e81-af2b-16de79d6f2a3",
   "metadata": {},
   "source": [
    "# 2"
   ]
  },
  {
   "cell_type": "code",
   "execution_count": null,
   "id": "31577b06-26a8-4f35-8bf6-67a819ce9507",
   "metadata": {},
   "outputs": [],
   "source": [
    "''' \n",
    "not closing a file can lead it to crash iin case of reopening and changes o a file may not be visible if it is not closed"
   ]
  },
  {
   "cell_type": "markdown",
   "id": "c5671ed2-baf5-4433-a5a0-e99930e226fc",
   "metadata": {},
   "source": [
    "# 3"
   ]
  },
  {
   "cell_type": "code",
   "execution_count": 1,
   "id": "5a2f2a47-cd80-497f-b3b8-407b3161e590",
   "metadata": {},
   "outputs": [],
   "source": [
    "with open('test1.txt','w') as f:\n",
    "    f.write('I want to become a Data Scientist')"
   ]
  },
  {
   "cell_type": "code",
   "execution_count": 2,
   "id": "52abed66-2ea1-4238-a294-07ae6b63c661",
   "metadata": {},
   "outputs": [
    {
     "name": "stdout",
     "output_type": "stream",
     "text": [
      "I want to become a Data Scientist\n"
     ]
    }
   ],
   "source": [
    "with open('test1.txt','r') as f:\n",
    "    print(f.read())"
   ]
  },
  {
   "cell_type": "code",
   "execution_count": null,
   "id": "08275d2c-76e2-4e81-9bb5-075d43609b0d",
   "metadata": {},
   "outputs": [],
   "source": [
    "import os\n",
    "os.rename('test1.txt', 'Q3_assignment_10)"
   ]
  },
  {
   "cell_type": "raw",
   "id": "10429c42-e2a3-4a30-8dc7-0d75720fd048",
   "metadata": {},
   "source": [
    "# 4"
   ]
  },
  {
   "cell_type": "code",
   "execution_count": null,
   "id": "f7464d5e-4b34-4481-a029-9c209c3bc0ef",
   "metadata": {},
   "outputs": [],
   "source": [
    "'''\n",
    "Read ( ): Returns the read bytes in the form of a string. Reads n bytes; if n is not specified, then reads the entire file.\n",
    "\n",
    "Readline ( ): Reads a line of the file and returns in the form of a string. \n",
    "For specified n, reads at most n bytes.\n",
    "readline ( ) function does not read more than one line at a time; even if n exceeds, it reads only one line\n",
    "\n",
    "readlines ( ): Reads all the lines and returns them as a string element in a list.\n",
    "Readlines ( ) is used to read all the lines at a single go and then return them as a string element in a list."
   ]
  },
  {
   "cell_type": "markdown",
   "id": "989e03a8-7ef3-4a4d-8445-f213f7c8e308",
   "metadata": {},
   "source": [
    "# 5"
   ]
  },
  {
   "cell_type": "code",
   "execution_count": null,
   "id": "25b2b739-b048-416c-9655-150bfddd3a58",
   "metadata": {},
   "outputs": [],
   "source": [
    "'''\n",
    "if you use with statement with open u dont have  to explicetly write the .close() statement , it automatically closes the file\n",
    "after all the statements inside with open(): have been executed\n"
   ]
  },
  {
   "cell_type": "markdown",
   "id": "ef183c95-b155-4675-b81e-d4bd2c483ba7",
   "metadata": {},
   "source": [
    "# 6"
   ]
  },
  {
   "cell_type": "code",
   "execution_count": null,
   "id": "8201e043-4868-45b4-b9cd-eb4e004806d8",
   "metadata": {},
   "outputs": [],
   "source": [
    "'''write() fn simply writes a given string in the file\"\n",
    "\n",
    "eg ------------>\n",
    "file = open(\"Employees.txt\", \"w\")\n",
    "  \n",
    "for i in range(3):\n",
    "   name = input(\"Enter the name of the employee: \")\n",
    "   file.write(name)\n",
    "   file.write(\"\\n\")     \n",
    "file.close() \n",
    "print(\"Data is written into the file.\")\n",
    "\n",
    "\n",
    "writelines() fn takes in a list whose elements are the lines in string format to be written in the file\n",
    "eg- ---------->\n",
    "file1 = open(\"Employees.txt\", \"w\")\n",
    "lst = []\n",
    "for i in range(3):\n",
    "    name = input(\"Enter the name of the employee: \")\n",
    "    lst.append(name + '\\n')\n",
    "      \n",
    "file1.writelines(lst)\n",
    "file1.close()\n",
    "print(\"Data is written into the file.\") \n",
    "'''"
   ]
  }
 ],
 "metadata": {
  "kernelspec": {
   "display_name": "Python 3 (ipykernel)",
   "language": "python",
   "name": "python3"
  },
  "language_info": {
   "codemirror_mode": {
    "name": "ipython",
    "version": 3
   },
   "file_extension": ".py",
   "mimetype": "text/x-python",
   "name": "python",
   "nbconvert_exporter": "python",
   "pygments_lexer": "ipython3",
   "version": "3.10.8"
  }
 },
 "nbformat": 4,
 "nbformat_minor": 5
}
