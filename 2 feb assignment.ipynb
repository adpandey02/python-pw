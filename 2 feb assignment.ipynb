{
 "cells": [
  {
   "cell_type": "markdown",
   "id": "7df9569c-1e36-40d3-958a-695a09c3b7e5",
   "metadata": {},
   "source": [
    "## 1"
   ]
  },
  {
   "cell_type": "code",
   "execution_count": null,
   "id": "bd95b71b-5de9-4d97-9d3c-424f18921602",
   "metadata": {},
   "outputs": [],
   "source": [
    "'''\n",
    "for loop is used when the number of iterations is known , has no condition , just iterate over a given iterable.\n",
    "eg to print numbers from 1 to 10 using for loop\n",
    "for i in range(1,11):\n",
    "    print(i)\n",
    "    \n",
    "while is used when the number of iterations is not known. In case of no condition, the loop is repeated infinite times.\n",
    "so giving termination condition is necessary\n",
    "eg printing numbers from 1 to 10\n",
    "i = 1\n",
    "while i<11:\n",
    "    print(i)\n",
    "\n",
    "'''"
   ]
  },
  {
   "cell_type": "code",
   "execution_count": null,
   "id": "8bb403ce-f66d-4ede-9587-e2ba8ba80f32",
   "metadata": {},
   "outputs": [],
   "source": []
  },
  {
   "cell_type": "markdown",
   "id": "c315d142-c985-492f-afe0-b66e5689afd6",
   "metadata": {},
   "source": [
    "## 2"
   ]
  },
  {
   "cell_type": "code",
   "execution_count": 1,
   "id": "d185116c-94d0-4367-b840-fb2a2af3c2a8",
   "metadata": {},
   "outputs": [
    {
     "name": "stdout",
     "output_type": "stream",
     "text": [
      "sum: 55 , product:3628800\n"
     ]
    }
   ],
   "source": [
    "# using for loop\n",
    "\n",
    "sum = 0\n",
    "product = 1\n",
    "for i in range(1,11):\n",
    "    sum += i\n",
    "    product*=i\n",
    "print(f\"sum: {sum} , product:{product}\")"
   ]
  },
  {
   "cell_type": "code",
   "execution_count": 2,
   "id": "bcc5e1a3-1c43-4463-b8f2-7702dcd00220",
   "metadata": {},
   "outputs": [
    {
     "name": "stdout",
     "output_type": "stream",
     "text": [
      "sum: 55 , product:3628800\n"
     ]
    }
   ],
   "source": [
    "# using while loop\n",
    "\n",
    "sum = 0\n",
    "product = 1\n",
    "i = 1\n",
    "while i < 11:\n",
    "    sum += i\n",
    "    product*=i\n",
    "    i+=1\n",
    "print(f\"sum: {sum} , product:{product}\")"
   ]
  },
  {
   "cell_type": "code",
   "execution_count": null,
   "id": "b4554448-5309-4085-a550-50d85622af1e",
   "metadata": {},
   "outputs": [],
   "source": []
  },
  {
   "cell_type": "markdown",
   "id": "554081f4-1cc5-4e45-b1a4-5ebbf1c4a212",
   "metadata": {},
   "source": [
    "## 3"
   ]
  },
  {
   "cell_type": "code",
   "execution_count": 4,
   "id": "cc8aa99d-694f-42ac-adea-868d0c9f3dbb",
   "metadata": {},
   "outputs": [
    {
     "name": "stdin",
     "output_type": "stream",
     "text": [
      "enter units 310\n"
     ]
    },
    {
     "name": "stdout",
     "output_type": "stream",
     "text": [
      "bill is 2250\n"
     ]
    }
   ],
   "source": [
    "units = int(input('enter units'))\n",
    "\n",
    "if units<101:\n",
    "    print('bill is ',units*4.5)\n",
    "elif units<201:\n",
    "    bill = 450 + (units-100)*6\n",
    "    print(f'bill is {bill}')\n",
    "elif units<301:\n",
    "    bill = 450 + 600 + (units-200)*10\n",
    "    print(f'bill is {bill}')\n",
    "else:\n",
    "     bill = 450 + 600 + 1000 + (units-300)*20\n",
    "     print(f'bill is {bill}')     \n",
    "    "
   ]
  },
  {
   "cell_type": "code",
   "execution_count": null,
   "id": "519ef7be-ad93-4cd4-95d0-0dc7ff71254d",
   "metadata": {},
   "outputs": [],
   "source": []
  },
  {
   "cell_type": "markdown",
   "id": "56dc6cd4-1a1f-4734-b3e8-0e4d72143a45",
   "metadata": {},
   "source": [
    "## 4"
   ]
  },
  {
   "cell_type": "code",
   "execution_count": 5,
   "id": "e41f09b9-939e-49cf-9fe2-d9b5fc57795c",
   "metadata": {},
   "outputs": [
    {
     "data": {
      "text/plain": [
       "[2,\n",
       " 4,\n",
       " 5,\n",
       " 6,\n",
       " 8,\n",
       " 10,\n",
       " 12,\n",
       " 14,\n",
       " 15,\n",
       " 16,\n",
       " 18,\n",
       " 20,\n",
       " 22,\n",
       " 24,\n",
       " 25,\n",
       " 26,\n",
       " 28,\n",
       " 30,\n",
       " 32,\n",
       " 34,\n",
       " 35,\n",
       " 36,\n",
       " 38,\n",
       " 40,\n",
       " 42,\n",
       " 44,\n",
       " 45,\n",
       " 46,\n",
       " 48,\n",
       " 50,\n",
       " 52,\n",
       " 54,\n",
       " 55,\n",
       " 56,\n",
       " 58,\n",
       " 60,\n",
       " 62,\n",
       " 64,\n",
       " 65,\n",
       " 66,\n",
       " 68,\n",
       " 70,\n",
       " 72,\n",
       " 74,\n",
       " 75,\n",
       " 76,\n",
       " 78,\n",
       " 80,\n",
       " 82,\n",
       " 84,\n",
       " 85,\n",
       " 86,\n",
       " 88,\n",
       " 90,\n",
       " 92,\n",
       " 94,\n",
       " 95,\n",
       " 96,\n",
       " 98,\n",
       " 100]"
      ]
     },
     "execution_count": 5,
     "metadata": {},
     "output_type": "execute_result"
    }
   ],
   "source": [
    "# using for loop\n",
    "\n",
    "list = [i for i in range(1,101) if (i**3) % 4==0 or (i**3) % 5==0]\n",
    "list    "
   ]
  },
  {
   "cell_type": "code",
   "execution_count": 10,
   "id": "ae695bb4-2b4e-4260-af8e-250375d8ec62",
   "metadata": {},
   "outputs": [
    {
     "data": {
      "text/plain": [
       "[2,\n",
       " 4,\n",
       " 5,\n",
       " 6,\n",
       " 8,\n",
       " 10,\n",
       " 12,\n",
       " 14,\n",
       " 15,\n",
       " 16,\n",
       " 18,\n",
       " 20,\n",
       " 22,\n",
       " 24,\n",
       " 25,\n",
       " 26,\n",
       " 28,\n",
       " 30,\n",
       " 32,\n",
       " 34,\n",
       " 35,\n",
       " 36,\n",
       " 38,\n",
       " 40,\n",
       " 42,\n",
       " 44,\n",
       " 45,\n",
       " 46,\n",
       " 48,\n",
       " 50,\n",
       " 52,\n",
       " 54,\n",
       " 55,\n",
       " 56,\n",
       " 58,\n",
       " 60,\n",
       " 62,\n",
       " 64,\n",
       " 65,\n",
       " 66,\n",
       " 68,\n",
       " 70,\n",
       " 72,\n",
       " 74,\n",
       " 75,\n",
       " 76,\n",
       " 78,\n",
       " 80,\n",
       " 82,\n",
       " 84,\n",
       " 85,\n",
       " 86,\n",
       " 88,\n",
       " 90,\n",
       " 92,\n",
       " 94,\n",
       " 95,\n",
       " 96,\n",
       " 98,\n",
       " 100]"
      ]
     },
     "execution_count": 10,
     "metadata": {},
     "output_type": "execute_result"
    }
   ],
   "source": [
    "# using for loop\n",
    "\n",
    "list = []\n",
    "i = 1\n",
    "while i < 101:\n",
    "    if (i**3) % 4==0 or (i**3) % 5==0:\n",
    "        list.append(i)\n",
    "    i+=1\n",
    "list"
   ]
  },
  {
   "cell_type": "code",
   "execution_count": null,
   "id": "b1e5a017-4240-4835-a98f-4ae651e997e1",
   "metadata": {},
   "outputs": [],
   "source": []
  },
  {
   "cell_type": "markdown",
   "id": "db3017f7-c635-43ab-945d-85ba694cc714",
   "metadata": {},
   "source": [
    "## 5"
   ]
  },
  {
   "cell_type": "code",
   "execution_count": 12,
   "id": "6b60306e-efe3-49e5-8294-c7587f9055a5",
   "metadata": {},
   "outputs": [
    {
     "name": "stdout",
     "output_type": "stream",
     "text": [
      "['I', 'a', 'o', 'e', 'o', 'e', 'a', 'a', 'a', 'i', 'e', 'i']\n",
      "no of vowels in string is  12\n"
     ]
    }
   ],
   "source": [
    "string = \"I want to become a data scientist\"\n",
    "vowels = []\n",
    "for i in string:\n",
    "    if i.lower() in ['a','e','i','o','u']:\n",
    "        vowels.append(i)\n",
    "print(vowels)\n",
    "print('no of vowels in string is ',len(vowels))\n",
    "        "
   ]
  },
  {
   "cell_type": "code",
   "execution_count": null,
   "id": "6eeb4f16-ddb7-4a74-8670-2158fc89ad27",
   "metadata": {},
   "outputs": [],
   "source": []
  }
 ],
 "metadata": {
  "kernelspec": {
   "display_name": "Python 3 (ipykernel)",
   "language": "python",
   "name": "python3"
  },
  "language_info": {
   "codemirror_mode": {
    "name": "ipython",
    "version": 3
   },
   "file_extension": ".py",
   "mimetype": "text/x-python",
   "name": "python",
   "nbconvert_exporter": "python",
   "pygments_lexer": "ipython3",
   "version": "3.10.8"
  }
 },
 "nbformat": 4,
 "nbformat_minor": 5
}
