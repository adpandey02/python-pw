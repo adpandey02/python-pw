{
 "cells": [
  {
   "cell_type": "code",
   "execution_count": 1,
   "id": "48c706ea-a043-4d04-b455-5ca6bfcab5f6",
   "metadata": {},
   "outputs": [
    {
     "data": {
      "text/plain": [
       "'Python is an object oriented programming language.\\n\\nAlmost everything in Python is an object, with its properties and methods.\\n\\nA Class is like an object constructor, or a \"blueprint\" for creating objects.'"
      ]
     },
     "execution_count": 1,
     "metadata": {},
     "output_type": "execute_result"
    }
   ],
   "source": [
    "# 1\n",
    "\n",
    "'''Python is an object oriented programming language.\n",
    "\n",
    "Almost everything in Python is an object, with its properties and methods.\n",
    "\n",
    "A Class is like an object constructor, or a \"blueprint\" for creating objects.'''"
   ]
  },
  {
   "cell_type": "code",
   "execution_count": 2,
   "id": "7f07ecf1-93dd-405d-afdf-47cc70b9466d",
   "metadata": {},
   "outputs": [
    {
     "data": {
      "text/plain": [
       "' Inheritance, Polymorphism, Encapsulation and Abstraction '"
      ]
     },
     "execution_count": 2,
     "metadata": {},
     "output_type": "execute_result"
    }
   ],
   "source": [
    " #2\n",
    "\n",
    "''' Inheritance, Polymorphism, Encapsulation and Abstraction '''"
   ]
  },
  {
   "cell_type": "code",
   "execution_count": 3,
   "id": "a7e742c4-c8a9-4c9d-9e3b-25ff5c882484",
   "metadata": {},
   "outputs": [
    {
     "name": "stdout",
     "output_type": "stream",
     "text": [
      "mercedes\n",
      "R8\n"
     ]
    }
   ],
   "source": [
    "\n",
    "#3\n",
    "\n",
    "''' All classes have a function called __init__(), which is always executed when the class is being initiated.\n",
    "\n",
    "Use the __init__() function to assign values to object properties '''\n",
    "\n",
    "class Car:\n",
    "    def __init__(self, name, model):\n",
    "        self.name = name\n",
    "        self.model = model\n",
    "\n",
    "c1 = Car('mercedes', 'R8')\n",
    "\n",
    "print(c1.name)\n",
    "print(c1.model)"
   ]
  },
  {
   "cell_type": "code",
   "execution_count": null,
   "id": "4537887a-beb6-4c53-baae-06ed8b9867fa",
   "metadata": {},
   "outputs": [],
   "source": [
    "\n",
    "#4\n",
    "\n",
    "''' self represents the instance of the class. By using the “self”  we can access the attributes and methods \n",
    "of the class in python. It binds the attributes with the given arguments. '''\n",
    "\n"
   ]
  },
  {
   "cell_type": "code",
   "execution_count": null,
   "id": "b7787529-2844-4d3f-af01-6fdc10118db4",
   "metadata": {},
   "outputs": [],
   "source": [
    "\n",
    "#5\n",
    "\n",
    "''' Inheritance is defined as the mechanism of inheriting the properties of the base class to the child class\n",
    "\n",
    "Single Inheritance: \n",
    "Single inheritance enables a derived class to inherit properties from a single parent class, \n",
    "thus enabling code reusability and the addition of new features to existing code.\n",
    "\n",
    "Multiple Inheritance: \n",
    "When a class can be derived from more than one base class this type of inheritance is called multiple inheritances.\n",
    "In multiple inheritances, all the features of the base classes are inherited into the derived class.\n",
    "\n",
    "Multilevel Inheritance :\n",
    "In multilevel inheritance, features of the base class and the derived class are further inherited into the new derived class.\n",
    "This is similar to a relationship representing a child and a grandfather\n",
    "\n",
    "Hierarchical Inheritance: \n",
    "When more than one derived class are created from a single base this type of inheritance is called hierarchical inheritance.\n",
    "In this program, we have a parent (base) class and two child (derived) classes.\n",
    "\n",
    "Hybrid Inheritance: \n",
    "Inheritance consisting of multiple types of inheritance is called hybrid inheritance. '''\n",
    "\n"
   ]
  }
 ],
 "metadata": {
  "kernelspec": {
   "display_name": "Python 3 (ipykernel)",
   "language": "python",
   "name": "python3"
  },
  "language_info": {
   "codemirror_mode": {
    "name": "ipython",
    "version": 3
   },
   "file_extension": ".py",
   "mimetype": "text/x-python",
   "name": "python",
   "nbconvert_exporter": "python",
   "pygments_lexer": "ipython3",
   "version": "3.10.8"
  }
 },
 "nbformat": 4,
 "nbformat_minor": 5
}
