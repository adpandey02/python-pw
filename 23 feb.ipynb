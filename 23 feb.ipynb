{
 "cells": [
  {
   "cell_type": "code",
   "execution_count": 1,
   "id": "1ace3490-aedc-41cd-9c49-419b9ee04b97",
   "metadata": {},
   "outputs": [
    {
     "name": "stdout",
     "output_type": "stream",
     "text": [
      "0     4\n",
      "1     8\n",
      "2    15\n",
      "3    16\n",
      "4    23\n",
      "5    42\n",
      "dtype: int64\n"
     ]
    }
   ],
   "source": [
    "import pandas as pd\n",
    "\n",
    "series = pd.Series([4, 8, 15, 16, 23, 42])\n",
    "print(series)\n"
   ]
  },
  {
   "cell_type": "code",
   "execution_count": null,
   "id": "cca77c7c-5297-4093-8656-2e10a8d55403",
   "metadata": {},
   "outputs": [],
   "source": []
  },
  {
   "cell_type": "code",
   "execution_count": 2,
   "id": "6515f8d2-daf6-431d-ae0c-71d115050823",
   "metadata": {},
   "outputs": [
    {
     "name": "stdout",
     "output_type": "stream",
     "text": [
      "0     1\n",
      "1     2\n",
      "2     3\n",
      "3     4\n",
      "4     5\n",
      "5     6\n",
      "6     7\n",
      "7     8\n",
      "8     9\n",
      "9    10\n",
      "dtype: int64\n"
     ]
    }
   ],
   "source": [
    "my_list = [1, 2, 3, 4, 5, 6, 7, 8, 9, 10]\n",
    "series = pd.Series(my_list)\n",
    "print(series)\n"
   ]
  },
  {
   "cell_type": "code",
   "execution_count": 3,
   "id": "ca07d8db-f987-44fa-83de-0200396d45f0",
   "metadata": {},
   "outputs": [
    {
     "name": "stdout",
     "output_type": "stream",
     "text": [
      "     name  age gender\n",
      "0   alice   25      f\n",
      "1     bob   30      m\n",
      "2  claire   27      f\n"
     ]
    }
   ],
   "source": [
    "data = {\n",
    "    'name': ['alice', 'bob', 'claire'],\n",
    "    'age': [25, 30, 27],\n",
    "    'gender': ['f', 'm', 'f']\n",
    "}\n",
    "\n",
    "df = pd.DataFrame(data)\n",
    "print(df)\n"
   ]
  },
  {
   "cell_type": "code",
   "execution_count": 6,
   "id": "d966ec82-1eed-4318-9957-6607d2836b3b",
   "metadata": {},
   "outputs": [
    {
     "name": "stdout",
     "output_type": "stream",
     "text": [
      "     name  age gender\n",
      "0   alice   25      f\n",
      "1     bob   30      m\n",
      "2  claire   27      f\n",
      "\n",
      "\n",
      "0     alice\n",
      "1       bob\n",
      "2    claire\n",
      "Name: name, dtype: object\n"
     ]
    }
   ],
   "source": [
    "'''\n",
    "A Pandas DataFrame is a 2-dimensional labeled data structure with columns of potentially different types.\n",
    "It is essentially a table with rows and columns, where each column can be thought of as a Pandas Series.\n",
    "The main difference between a Pandas Series and a DataFrame is that a Series is a one-dimensional labeled\n",
    "array while a DataFrame is a two-dimensional labeled array\n",
    "'''\n",
    "\n",
    "# df we created above is a dataframe\n",
    "print(df)\n",
    "print('\\n')\n",
    "#if we select a single row or colum  from it , thst will be series\n",
    "print(df['name'])"
   ]
  },
  {
   "cell_type": "code",
   "execution_count": null,
   "id": "bd226596-e9b4-4c51-9b0a-748b10fa0011",
   "metadata": {},
   "outputs": [],
   "source": [
    "'''\n",
    "head() and tail(): these functions allow you to see the first or last n rows of a DataFrame.\n",
    "For example, df.head() will show the first 5 rows of the DataFrame df.\n",
    "describe(): this function generates descriptive statistics about the DataFrame, including count, mean,\n",
    "standard deviation, minimum, maximum, and quartiles\n",
    " .columns which returns names of the column headers in the df\n",
    "'''"
   ]
  },
  {
   "cell_type": "code",
   "execution_count": null,
   "id": "eae67240-3426-4ad2-995b-b509da015ee7",
   "metadata": {},
   "outputs": [],
   "source": [
    "'''\n",
    "all of them are mutable\n",
    "'''"
   ]
  },
  {
   "cell_type": "code",
   "execution_count": null,
   "id": "1a277593-6f52-4a5a-841c-8afac133e86b",
   "metadata": {},
   "outputs": [],
   "source": [
    "'''\n",
    "You can create a DataFrame using multiple Series by passing a dictionary of Series objects to the DataFrame constructor. \n",
    "Each Series will become a column in the DataFrame\n",
    "'''\n",
    "import pandas as pd\n",
    "\n",
    "names = pd.Series(['John', 'Jane', 'Sally'])\n",
    "ages = pd.Series([25, 30, 21])\n",
    "countries = pd.Series(['USA', 'Canada', 'Australia'])\n",
    "\n",
    "data = {'name': names, 'age': ages, 'country': countries}\n",
    "df = pd.DataFrame(data)\n",
    "\n",
    "print(df)\n"
   ]
  }
 ],
 "metadata": {
  "kernelspec": {
   "display_name": "Python 3 (ipykernel)",
   "language": "python",
   "name": "python3"
  },
  "language_info": {
   "codemirror_mode": {
    "name": "ipython",
    "version": 3
   },
   "file_extension": ".py",
   "mimetype": "text/x-python",
   "name": "python",
   "nbconvert_exporter": "python",
   "pygments_lexer": "ipython3",
   "version": "3.10.8"
  }
 },
 "nbformat": 4,
 "nbformat_minor": 5
}
