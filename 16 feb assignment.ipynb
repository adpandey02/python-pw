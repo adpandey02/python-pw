{
 "cells": [
  {
   "cell_type": "markdown",
   "id": "872c5671-b45c-4e67-bdf3-73b72f4a8663",
   "metadata": {},
   "source": [
    "# 1"
   ]
  },
  {
   "cell_type": "code",
   "execution_count": null,
   "id": "43f3da2e-915e-498c-8f97-76672ad2ca13",
   "metadata": {},
   "outputs": [],
   "source": [
    "'''\n",
    "A database is an organized collection of structured information, or data, typically stored electronically in a computer system.\n",
    "A database is usually controlled by a database management system (DBMS).\n",
    "Together, the data and the DBMS, along with the applications that are associated with them,\n",
    "are referred to as a database system, often shortened to just database.\n",
    "\n",
    "\n",
    "SQL ------------->\n",
    "SQL, which stands for “Structured Query Language,” is the programming language that’s been widely\n",
    "used in managing data in relational database management systems (RDBMS)\n",
    " One table record may link to one other or to many others, or many table records may be related to many records in another table.\n",
    " These relational databases, which offer fast data storage and recovery, can handle great amounts of data and complex SQL queries.\n",
    "\n",
    "NOSQL------------>\n",
    "Unlike SQL, NoSQL systems allow you to work with different data structures within a database. \n",
    "Because they allow a dynamic schema for unstructured data, there’s less need to pre-plan and pre-organize data,\n",
    "and it’s easier to make modifications. NoSQL databases allow you to add new attributes and fields, as well as use varied syntax across databases.\n",
    "NoSQL databases scale better horizontally, which means one can add additional servers or nodes as needed to increase load.\n",
    "'''"
   ]
  },
  {
   "cell_type": "markdown",
   "id": "6fc13340-9dd6-42ef-bc01-253b0899c982",
   "metadata": {},
   "source": [
    "# 2"
   ]
  },
  {
   "cell_type": "code",
   "execution_count": null,
   "id": "e0bfed07-ca7f-43a5-a23a-c1d0b066fdd5",
   "metadata": {},
   "outputs": [],
   "source": [
    "'''\n",
    "In the context of SQL,\n",
    "data definition or data description language is a syntax for creating and modifying database objects such as tables, indices, and users. \n",
    "\n",
    "CREATE: This command is used to create the database or its objects (like table, index, function, views, store procedure, and triggers).\n",
    "DROP: This command is used to delete objects from the database.\n",
    "ALTER: This is used to alter the structure of the database.\n",
    "TRUNCATE: This is used to remove all records from a table, including all spaces allocated for the records are removed.\n",
    "'''"
   ]
  },
  {
   "cell_type": "markdown",
   "id": "facfe3ef-fc72-4e15-8531-0142a95efd7f",
   "metadata": {},
   "source": [
    "# 3"
   ]
  },
  {
   "cell_type": "code",
   "execution_count": null,
   "id": "8bcc2264-8ac8-4298-a6dd-a82d0d987a58",
   "metadata": {},
   "outputs": [],
   "source": [
    "'''\n",
    "The SQL commands that deals with the manipulation of data present in the database belong to DML \n",
    "or Data Manipulation Language and this includes most of the SQL statements. It is the component of the SQL \n",
    "statement that controls access to data and to the database. Basically, DCL statements are grouped with DML statements.\n",
    "\n",
    "INSERT : It is used to insert data into a table.\n",
    "UPDATE: It is used to update existing data within a table.\n",
    "DELETE : It is used to delete records from a database table\n",
    "'''"
   ]
  },
  {
   "cell_type": "markdown",
   "id": "6ae4703d-3ea4-4db9-9026-3f6dc57964e8",
   "metadata": {},
   "source": [
    "# 4"
   ]
  },
  {
   "cell_type": "code",
   "execution_count": null,
   "id": "4947d707-52c3-4002-856b-43ea51361683",
   "metadata": {},
   "outputs": [],
   "source": [
    "'''\n",
    "DQL statements are used for performing queries on the data within schema objects. \n",
    "The purpose of the DQL Command is to get some schema relation based on the query passed to it.\n",
    "We can define DQL as follows it is a component of SQL statement that allows getting data from the\n",
    "database and imposing order upon it. It includes the SELECT statement. \n",
    "This command allows getting the data out of the database to perform operations with it.\n",
    "When a SELECT is fired against a table or tables the result is compiled into a further temporary table,\n",
    "which is displayed or perhaps received by the program i.e. a front-end.\n",
    "\n",
    "SELECT: It is used to retrieve data from the database.\n",
    "'''"
   ]
  },
  {
   "cell_type": "markdown",
   "id": "712b2544-865a-4d4e-b70d-48ef9ad8acfd",
   "metadata": {},
   "source": [
    "# 5"
   ]
  },
  {
   "cell_type": "code",
   "execution_count": null,
   "id": "8e2c497d-6f7b-41ad-a140-2fea00fed15e",
   "metadata": {},
   "outputs": [],
   "source": [
    "'''\n",
    "A primary key is a field or set of fields in a database table that uniquely identifies each record in that table. \n",
    "It is a column or a group of columns that are designated as the main identifier of a record, and it must have a \n",
    "unique value for each row in the table. Primary keys are used to enforce data integrity and ensure that each record \n",
    "can be uniquely identified and referenced.\n",
    "\n",
    "A foreign key, on the other hand, is a field or set of fields in one table that refers to the primary key of another table.\n",
    "It is used to establish a relationship between two tables in a database. The foreign key column in one table must contain\n",
    "only values that exist in the primary key column of the referenced table. By enforcing referential integrity, \n",
    "foreign keys ensure that related data is kept in sync across tables, and prevent orphaned records.\n",
    "'''"
   ]
  },
  {
   "cell_type": "markdown",
   "id": "ea4c3475-9cc7-4bbc-9325-a4532b7c781c",
   "metadata": {},
   "source": [
    "# 6"
   ]
  },
  {
   "cell_type": "code",
   "execution_count": null,
   "id": "641109a6-3d65-4a0c-b6f2-b13f50b637cf",
   "metadata": {},
   "outputs": [],
   "source": [
    "import mysql.connector\n",
    "\n",
    "# establish connection to MySQL database\n",
    "mydb = mysql.connector.connect(\n",
    "  host=\"localhost\",\n",
    "  user=\"yourusername\",\n",
    "  password=\"yourpassword\",\n",
    "  database=\"yourdatabase\"\n",
    ")\n",
    "\n",
    "# create cursor object\n",
    "mycursor = mydb.cursor()\n",
    "\n",
    "# execute query\n",
    "mycursor.execute(\"SELECT * FROM yourtable\")\n",
    "\n",
    "# fetch all rows from the query result\n",
    "myresult = mycursor.fetchall()\n",
    "\n",
    "# print the rows\n",
    "for row in myresult:\n",
    "  print(row)\n",
    "\n",
    "'''\n",
    "we create a cursor object using the cursor() method. A cursor is an object that allows us to execute SQL queries and fetch data from the result set.\n",
    "\n",
    "We then use the execute() method to execute a query. In this case, we are selecting all rows from a table called yourtable.\n",
    "'''"
   ]
  },
  {
   "cell_type": "markdown",
   "id": "d4b0b111-a38a-4235-902c-bb2edfb665cc",
   "metadata": {},
   "source": [
    "# 6"
   ]
  },
  {
   "cell_type": "code",
   "execution_count": null,
   "id": "66316a0c-22d6-4b63-bdb3-360a252aa4e8",
   "metadata": {},
   "outputs": [],
   "source": [
    "'''\n",
    "In an SQL query, the order of execution of SQL clauses is as follows:\n",
    "\n",
    "FROM clause: This clause specifies the table or tables from which the data is to be retrieved.\n",
    "\n",
    "JOIN clause: This clause is used to combine rows from two or more tables based on a related column between them.\n",
    "\n",
    "WHERE clause: This clause is used to filter the rows returned by the query based on one or more conditions.\n",
    "\n",
    "GROUP BY clause: This clause is used to group the rows based on one or more columns.\n",
    "\n",
    "HAVING clause: This clause is used to filter the groups returned by the query based on one or more conditions.\n",
    "\n",
    "SELECT clause: This clause specifies the columns to be returned in the result set.\n",
    "\n",
    "DISTINCT clause: This clause is used to remove duplicates from the result set.\n",
    "\n",
    "ORDER BY clause: This clause is used to sort the rows in the result set based on one or more columns.\n",
    "\n",
    "LIMIT clause: This clause is used to limit the number of rows returned by the query.\n",
    "'''"
   ]
  }
 ],
 "metadata": {
  "kernelspec": {
   "display_name": "Python 3 (ipykernel)",
   "language": "python",
   "name": "python3"
  },
  "language_info": {
   "codemirror_mode": {
    "name": "ipython",
    "version": 3
   },
   "file_extension": ".py",
   "mimetype": "text/x-python",
   "name": "python",
   "nbconvert_exporter": "python",
   "pygments_lexer": "ipython3",
   "version": "3.10.8"
  }
 },
 "nbformat": 4,
 "nbformat_minor": 5
}
