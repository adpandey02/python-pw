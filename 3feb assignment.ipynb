{
 "cells": [
  {
   "cell_type": "code",
   "execution_count": 3,
   "id": "293ab25e-1a80-4d93-9193-c54e6fb02869",
   "metadata": {},
   "outputs": [
    {
     "data": {
      "text/plain": [
       "[1, 3, 5, 7, 9, 11, 13, 15, 17, 19, 21, 23, 25]"
      ]
     },
     "execution_count": 3,
     "metadata": {},
     "output_type": "execute_result"
    }
   ],
   "source": [
    "#1 \n",
    "# def keyword is used to create functions\n",
    "def odd():\n",
    "    return [i for i in range(1,26) if i%2 != 0]\n",
    "\n",
    "odd()"
   ]
  },
  {
   "cell_type": "code",
   "execution_count": 16,
   "id": "ac8c70b3-5bf6-4ddb-96ce-9305f2e76f05",
   "metadata": {},
   "outputs": [
    {
     "name": "stdout",
     "output_type": "stream",
     "text": [
      "a\n",
      "d\n",
      "i\n",
      "('a', 1)\n",
      "('d', 2)\n",
      "('i', 3)\n"
     ]
    }
   ],
   "source": [
    "\n",
    "#2\n",
    "''' *args is used to give n  no of arguements in a function when we prerequesetly dont know how many will be needed\n",
    " *kwargs does the samme thing but for key value pair type arguements '''\n",
    "\n",
    "def printargs(*args):\n",
    "    for i in args:\n",
    "        print(i)\n",
    "        \n",
    "printargs('a','d','i')\n",
    "\n",
    "def printkwargs(**kwargs):\n",
    "    for i in kwargs.items():\n",
    "        print(i)\n",
    "\n",
    "printkwargs(a=1,d=2,i=3)"
   ]
  },
  {
   "cell_type": "code",
   "execution_count": 18,
   "id": "be68cf51-751d-476e-b71a-a49d3cf402de",
   "metadata": {},
   "outputs": [
    {
     "name": "stdout",
     "output_type": "stream",
     "text": [
      "2\n",
      "4\n",
      "6\n",
      "8\n",
      "10\n"
     ]
    }
   ],
   "source": [
    "\n",
    "#3 \n",
    "'''An iterator is an object that contains a countable number of values.\n",
    "An iterator is an object that can be iterated upon, meaning that you can traverse through all the values.\n",
    "it can be a list , tuple , dictionary , or a range\n",
    "for loop can be used to iterate over an iterator object '''\n",
    "\n",
    "l = [2, 4, 6, 8, 10, 12, 14, 16, 18, 20]\n",
    "for i in range(5):\n",
    "    print(l[i])"
   ]
  },
  {
   "cell_type": "code",
   "execution_count": 19,
   "id": "bdbd4acb-5ca3-4996-9b7f-c36e1b24a3d0",
   "metadata": {},
   "outputs": [
    {
     "name": "stdout",
     "output_type": "stream",
     "text": [
      "0\n",
      "1\n",
      "4\n",
      "9\n",
      "16\n"
     ]
    }
   ],
   "source": [
    "\n",
    "#4\n",
    "'''yield keyword is used to create a generator function.\n",
    "A type of function that is memory efficient and can be used like an iterator object.\n",
    "In layman terms, the yield keyword will turn any expression that is given with it into a generator object and return it to the caller'''\n",
    "\n",
    "squares_generator = (i * i for i in range(5))\n",
    "for i in squares_generator:\n",
    "    print(i)"
   ]
  },
  {
   "cell_type": "code",
   "execution_count": 34,
   "id": "6d848c73-135f-47ba-9ae9-e9ad561d6878",
   "metadata": {},
   "outputs": [
    {
     "name": "stdout",
     "output_type": "stream",
     "text": [
      "2\n",
      "3\n",
      "5\n",
      "7\n",
      "11\n",
      "13\n",
      "17\n",
      "19\n",
      "23\n",
      "29\n",
      "31\n",
      "37\n",
      "41\n",
      "43\n",
      "47\n",
      "53\n",
      "59\n",
      "61\n",
      "67\n",
      "71\n"
     ]
    }
   ],
   "source": [
    "\n",
    "#5\n",
    "def checkprime(n):\n",
    "    for i in range(2,n):\n",
    "        if n%i==0:\n",
    "            return False\n",
    "    else:\n",
    "        return True\n",
    "\n",
    "def primegenerator(n):\n",
    "    for i in range(2,n):\n",
    "        if checkprime(i):\n",
    "            yield i\n",
    "            \n",
    "iterator_object = iter(primegenerator(1000))\n",
    "for i in range(20):\n",
    "    print(next(iterator_object))"
   ]
  },
  {
   "cell_type": "code",
   "execution_count": 35,
   "id": "fe0365ce-e9bf-4b5a-b6ad-db28dea2e145",
   "metadata": {},
   "outputs": [
    {
     "name": "stdout",
     "output_type": "stream",
     "text": [
      "0\n",
      "1\n",
      "1\n",
      "2\n",
      "3\n",
      "5\n",
      "8\n",
      "13\n",
      "21\n",
      "34\n"
     ]
    }
   ],
   "source": [
    "\n",
    "#6\n",
    "def printfabbon(n):\n",
    "    a =0\n",
    "    b = 1\n",
    "    counter = 0\n",
    "    while counter<10:\n",
    "        print(a)\n",
    "        temp = a+b\n",
    "        a = b\n",
    "        b = temp\n",
    "        counter += 1\n",
    "        \n",
    "printfabbon(10)"
   ]
  },
  {
   "cell_type": "code",
   "execution_count": 36,
   "id": "a2bcda0a-688d-4685-bb13-0b2a744e1ce7",
   "metadata": {},
   "outputs": [
    {
     "data": {
      "text/plain": [
       "['p', 'w', 's', 'k', 'i', 'l', 'l', 's']"
      ]
     },
     "execution_count": 36,
     "metadata": {},
     "output_type": "execute_result"
    }
   ],
   "source": [
    "\n",
    "#7\n",
    "[i for i in 'pwskills']"
   ]
  },
  {
   "cell_type": "code",
   "execution_count": 42,
   "id": "7c03ce04-fe84-4339-8bbd-462cbb527694",
   "metadata": {},
   "outputs": [
    {
     "data": {
      "text/plain": [
       "True"
      ]
     },
     "execution_count": 42,
     "metadata": {},
     "output_type": "execute_result"
    }
   ],
   "source": [
    "\n",
    "#8\n",
    "def palindrome_check(word):\n",
    "    counter = len(word) - 1\n",
    "    reverse_word = ''\n",
    "    while counter>=0:\n",
    "        reverse_word += word[counter]\n",
    "        counter -= 1\n",
    "    if word == reverse_word:\n",
    "        return True\n",
    "    else:\n",
    "        return False\n",
    "    \n",
    "palindrome_check('civic')\n"
   ]
  },
  {
   "cell_type": "code",
   "execution_count": 44,
   "id": "d64891f7-6df7-4c74-8a4b-64a8db310482",
   "metadata": {},
   "outputs": [
    {
     "data": {
      "text/plain": [
       "[1,\n",
       " 3,\n",
       " 5,\n",
       " 7,\n",
       " 9,\n",
       " 11,\n",
       " 13,\n",
       " 15,\n",
       " 17,\n",
       " 19,\n",
       " 21,\n",
       " 23,\n",
       " 25,\n",
       " 27,\n",
       " 29,\n",
       " 31,\n",
       " 33,\n",
       " 35,\n",
       " 37,\n",
       " 39,\n",
       " 41,\n",
       " 43,\n",
       " 45,\n",
       " 47,\n",
       " 49,\n",
       " 51,\n",
       " 53,\n",
       " 55,\n",
       " 57,\n",
       " 59,\n",
       " 61,\n",
       " 63,\n",
       " 65,\n",
       " 67,\n",
       " 69,\n",
       " 71,\n",
       " 73,\n",
       " 75,\n",
       " 77,\n",
       " 79,\n",
       " 81,\n",
       " 83,\n",
       " 85,\n",
       " 87,\n",
       " 89,\n",
       " 91,\n",
       " 93,\n",
       " 95,\n",
       " 97,\n",
       " 99]"
      ]
     },
     "execution_count": 44,
     "metadata": {},
     "output_type": "execute_result"
    }
   ],
   "source": [
    "\n",
    "#9\n",
    "[j for j in [i for i in range(1,101)] if j%2!=0]"
   ]
  },
  {
   "cell_type": "code",
   "execution_count": null,
   "id": "ebce21f3-90af-4a51-953a-aa1b5538d6de",
   "metadata": {},
   "outputs": [],
   "source": []
  }
 ],
 "metadata": {
  "kernelspec": {
   "display_name": "Python 3 (ipykernel)",
   "language": "python",
   "name": "python3"
  },
  "language_info": {
   "codemirror_mode": {
    "name": "ipython",
    "version": 3
   },
   "file_extension": ".py",
   "mimetype": "text/x-python",
   "name": "python",
   "nbconvert_exporter": "python",
   "pygments_lexer": "ipython3",
   "version": "3.10.8"
  }
 },
 "nbformat": 4,
 "nbformat_minor": 5
}
