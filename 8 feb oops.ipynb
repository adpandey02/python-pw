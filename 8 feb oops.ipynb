{
 "cells": [
  {
   "cell_type": "code",
   "execution_count": null,
   "id": "3919cadd-6e7f-448b-a521-d05dd56619a2",
   "metadata": {},
   "outputs": [],
   "source": [
    "# 1\n",
    "'''\n",
    "Abstraction is about keeping the process simple by hiding unnecessary details from the user. \n",
    "Think of a car; the actual mechanism that keeps a car moving is hidden from the user.\n",
    "It is important to know how to drive a car,\n",
    "but it is not necessarily important to know what happens under the hood when you drive the car.\n",
    "Abstraction is about keeping the internal mechanics of the code hidden from the user. \n",
    "This reduces the complexity of the code, and ensures that we only concentrate on what is important.\n",
    "'''"
   ]
  },
  {
   "cell_type": "code",
   "execution_count": null,
   "id": "86209473-378d-453d-8782-ed8e16387a6f",
   "metadata": {},
   "outputs": [],
   "source": [
    "# 3\n",
    "'''\n",
    "Abstraction\t\n",
    "Encapsulation\n",
    "\n",
    "Abstraction works on the design level.\n",
    "Encapsulation works on the application level.\n",
    "\n",
    "Abstraction is implemented to hide unnecessary data and withdrawing relevant data.\n",
    "Encapsulation is the mechanism of hiding the code and the data together from the outside world or misuse.\n",
    "\n",
    "It highlights what the work of an object instead of how the object works \n",
    "It focuses on the inner details of how the object works. Modifications can be done later to the settings.\n",
    "\n",
    "Abstraction focuses on outside viewing, for example, shifting the car.\n",
    "Encapsulation focuses on internal working or inner viewing, for example, the production of the car.\n",
    "\n",
    "Abstraction is supported in Java with the interface and the abstract class.\n",
    "Encapsulation is supported using, e.g. public, private and secure access modification systems.\n",
    "\n",
    "In a nutshell, abstraction is hiding implementation with the help of an interface and an abstract class.\t\n",
    "In a nutshell, encapsulation is hiding the data with the help of getters and setters.\n",
    "'''"
   ]
  },
  {
   "cell_type": "code",
   "execution_count": null,
   "id": "ca3c4f06-12ab-4a02-846a-3188faa662f0",
   "metadata": {},
   "outputs": [],
   "source": [
    "# 3\n",
    "'''\n",
    "In OOP abstraction is achieved by creating an interface class (base class) and implementation classes (subclasses).\n",
    "We can create an interface class using the built-in abc module\n",
    "'''"
   ]
  },
  {
   "cell_type": "code",
   "execution_count": 1,
   "id": "be999e28-c0e0-4a31-98e8-29f77b3c0e95",
   "metadata": {},
   "outputs": [
    {
     "name": "stdout",
     "output_type": "stream",
     "text": [
      "The mileage is 30kmph\n",
      "The mileage is 27kmph \n",
      "The mileage is 25kmph \n",
      "The mileage is 24kmph \n"
     ]
    }
   ],
   "source": [
    "# 4\n",
    "'''\n",
    "in OOP abstraction is achieved by creating an interface class (base class) and implementation classes (subclasses)\n",
    "'''\n",
    "\n",
    "from abc import ABC, abstractmethod   \n",
    "class Car(ABC):   \n",
    "    def mileage(self):   \n",
    "        pass  \n",
    "  \n",
    "class Tesla(Car):   \n",
    "    def mileage(self):   \n",
    "        print(\"The mileage is 30kmph\")   \n",
    "class Suzuki(Car):   \n",
    "    def mileage(self):   \n",
    "        print(\"The mileage is 25kmph \")   \n",
    "class Duster(Car):   \n",
    "     def mileage(self):   \n",
    "          print(\"The mileage is 24kmph \")   \n",
    "  \n",
    "class Renault(Car):   \n",
    "    def mileage(self):   \n",
    "            print(\"The mileage is 27kmph \")   \n",
    "          \n",
    "# Driver code   \n",
    "t= Tesla ()   \n",
    "t.mileage()   \n",
    "  \n",
    "r = Renault()   \n",
    "r.mileage()   \n",
    "  \n",
    "s = Suzuki()   \n",
    "s.mileage()   \n",
    "d = Duster()   \n",
    "d.mileage() "
   ]
  },
  {
   "cell_type": "code",
   "execution_count": null,
   "id": "ab317d4b-9a81-4d10-90d2-cc41edc42c45",
   "metadata": {},
   "outputs": [],
   "source": [
    "# 5\n",
    "'''\n",
    "You cannot instantiate an object of the abstract class, you will get an error\n",
    "we can now create the classes that will implement the abstract class.\n",
    "The implementation classes will have the same method name as that of the abstract class.\n",
    "The methods in the implementation classes will override the method in the abstract class\n",
    "'''"
   ]
  }
 ],
 "metadata": {
  "kernelspec": {
   "display_name": "Python 3 (ipykernel)",
   "language": "python",
   "name": "python3"
  },
  "language_info": {
   "codemirror_mode": {
    "name": "ipython",
    "version": 3
   },
   "file_extension": ".py",
   "mimetype": "text/x-python",
   "name": "python",
   "nbconvert_exporter": "python",
   "pygments_lexer": "ipython3",
   "version": "3.10.8"
  }
 },
 "nbformat": 4,
 "nbformat_minor": 5
}
