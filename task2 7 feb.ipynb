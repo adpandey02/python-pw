{
 "cells": [
  {
   "cell_type": "code",
   "execution_count": 14,
   "id": "67b168ca-6502-475c-ac81-b14b27bcbd07",
   "metadata": {},
   "outputs": [],
   "source": [
    "\n",
    " # 1\n",
    "\n",
    "def passwordcheck(password):\n",
    "    state = 1\n",
    "    uppercase = 0\n",
    "    lowercase = 0\n",
    "    special_char = 0\n",
    "    numeric = 0\n",
    "    \n",
    "    for i in password:                                 \n",
    "        if i.isalpha():                               # guideline 1\n",
    "            if i.isupper():\n",
    "                uppercase+=1\n",
    "            elif i.islower():\n",
    "                lowercase+=1\n",
    "                                \n",
    "        if not i.isalnum():                           # guideline 2\n",
    "            special_char += 1  \n",
    "        if i.isnumeric():\n",
    "            numeric += 1\n",
    "                \n",
    "    if uppercase < 2 or lowercase < 2 or special_char < 3 or len(password) < 10:     #third guideline\n",
    "        state = 0 \n",
    "                                                             \n",
    "    #check statements\n",
    "    if state == 1:\n",
    "        return 'password is valid'\n",
    "    else:\n",
    "        return 'password is invalid'\n",
    "    "
   ]
  },
  {
   "cell_type": "code",
   "execution_count": 19,
   "id": "867b081b-9523-49ad-b167-3d112f4e98da",
   "metadata": {},
   "outputs": [
    {
     "data": {
      "text/plain": [
       "'password is valid'"
      ]
     },
     "execution_count": 19,
     "metadata": {},
     "output_type": "execute_result"
    }
   ],
   "source": [
    "passwordcheck('doDO#$%4mmm')"
   ]
  },
  {
   "cell_type": "code",
   "execution_count": null,
   "id": "f9292a48-f82a-48b4-8f3b-c1e09ea52941",
   "metadata": {},
   "outputs": [],
   "source": []
  },
  {
   "cell_type": "markdown",
   "id": "23926bb1-0a88-4a3c-ab1f-73a6dcb74d21",
   "metadata": {},
   "source": [
    "## 2"
   ]
  },
  {
   "cell_type": "code",
   "execution_count": 23,
   "id": "d9c45627-b5af-47c1-aa4e-34d5ff3364e2",
   "metadata": {},
   "outputs": [],
   "source": [
    "#B Check if the string starts with a particular letterY\n",
    "q1 = lambda string, letter: True if string[0].lower() == letter.lower() else False "
   ]
  },
  {
   "cell_type": "code",
   "execution_count": 26,
   "id": "fa9ceaa3-735f-416b-ae54-544b4e9f64b1",
   "metadata": {},
   "outputs": [
    {
     "data": {
      "text/plain": [
       "True"
      ]
     },
     "execution_count": 26,
     "metadata": {},
     "output_type": "execute_result"
    }
   ],
   "source": [
    "q1('I am aditya', 'i')"
   ]
  },
  {
   "cell_type": "code",
   "execution_count": 32,
   "id": "d01471fd-637d-4377-9fc3-655046c69047",
   "metadata": {},
   "outputs": [],
   "source": [
    "\n",
    "# check if the string is numeric\n",
    "q2= lambda string: string.isnumeric()"
   ]
  },
  {
   "cell_type": "code",
   "execution_count": 34,
   "id": "a1ecb284-4e6c-4e84-9bab-5f8fd31ddcaf",
   "metadata": {},
   "outputs": [
    {
     "data": {
      "text/plain": [
       "False"
      ]
     },
     "execution_count": 34,
     "metadata": {},
     "output_type": "execute_result"
    }
   ],
   "source": [
    "q2('i am aditya 85139')"
   ]
  },
  {
   "cell_type": "code",
   "execution_count": 35,
   "id": "e6d855bc-82c0-42c5-b354-3c42fb5b68c3",
   "metadata": {},
   "outputs": [
    {
     "data": {
      "text/plain": [
       "True"
      ]
     },
     "execution_count": 35,
     "metadata": {},
     "output_type": "execute_result"
    }
   ],
   "source": [
    "q2('85139')"
   ]
  },
  {
   "cell_type": "code",
   "execution_count": 37,
   "id": "cf3afb21-66a1-48ed-85cc-26a0ddeb50b9",
   "metadata": {},
   "outputs": [
    {
     "data": {
      "text/plain": [
       "[('orange', 80), ('mango', 99), ('grapes', 1000)]"
      ]
     },
     "execution_count": 37,
     "metadata": {},
     "output_type": "execute_result"
    }
   ],
   "source": [
    "\n",
    "#sort the list\n",
    "l = [(\"mango\",99),(\"orange\",80), (\"grapes\", 1000)]\n",
    "l.sort(key=lambda x:x[1])\n",
    "l"
   ]
  },
  {
   "cell_type": "code",
   "execution_count": 55,
   "id": "542bbacd-ef40-44f3-a34b-ec93a831c05f",
   "metadata": {},
   "outputs": [
    {
     "data": {
      "text/plain": [
       "[1, 4, 9, 16, 25, 36, 49, 64, 81, 100]"
      ]
     },
     "execution_count": 55,
     "metadata": {},
     "output_type": "execute_result"
    }
   ],
   "source": [
    "\n",
    "#Find the squares of numbers from 1 to 10\n",
    "list(map(lambda x:x**2 ,list(range(1,11))))"
   ]
  },
  {
   "cell_type": "code",
   "execution_count": 51,
   "id": "6650dcba-2f76-4063-88c6-b7cd0b65e12f",
   "metadata": {},
   "outputs": [
    {
     "data": {
      "text/plain": [
       "[1.0, 1.26, 1.442, 1.587, 1.71, 1.817, 1.913, 2.0, 2.08, 2.154]"
      ]
     },
     "execution_count": 51,
     "metadata": {},
     "output_type": "execute_result"
    }
   ],
   "source": [
    "\n",
    "#Find the cube root of numbers from 1 to 10Y\n",
    "from math import pow\n",
    "[round(pow(i, 1/3), 3) for i in range(1,11)]"
   ]
  },
  {
   "cell_type": "code",
   "execution_count": 53,
   "id": "d1150ca5-6e25-45cc-b2c0-9c9e4f365350",
   "metadata": {},
   "outputs": [
    {
     "data": {
      "text/plain": [
       "True"
      ]
     },
     "execution_count": 53,
     "metadata": {},
     "output_type": "execute_result"
    }
   ],
   "source": [
    "\n",
    "#Check if a given number is evenY\n",
    "q6 = lambda x: True if x%2==0 else False\n",
    "q6(10)"
   ]
  },
  {
   "cell_type": "code",
   "execution_count": 56,
   "id": "927a46c5-2f90-4809-a38e-60d00c14ebb8",
   "metadata": {},
   "outputs": [
    {
     "data": {
      "text/plain": [
       "[1, 3, 5, 7, 9]"
      ]
     },
     "execution_count": 56,
     "metadata": {},
     "output_type": "execute_result"
    }
   ],
   "source": [
    "\n",
    "#Filter odd numbers from the given list.\n",
    "l = [1,2,3,4,5,6,7,8,9,10]\n",
    "list(filter(lambda x : x%2 != 0, l))"
   ]
  },
  {
   "cell_type": "code",
   "execution_count": 66,
   "id": "9b4f3efd-821e-4ebc-bcae-4edd954125ff",
   "metadata": {},
   "outputs": [
    {
     "name": "stdout",
     "output_type": "stream",
     "text": [
      "[1, 2, 3, 4, 5, 6, 0] [-1, -2, -3, -4, -5]\n"
     ]
    }
   ],
   "source": [
    "\n",
    "#Sort a list of integers into positive and negative integers lists.\n",
    "l = [1,2,3,4,5,6,-1,-2,-3,-4,-5,0]\n",
    "positive = [i for i in l if i>-1]\n",
    "negative = [i for i in l if i<0]\n",
    "print(positive, negative)"
   ]
  },
  {
   "cell_type": "code",
   "execution_count": null,
   "id": "36712fbb-b1f6-4ab0-9611-bf60589e21c1",
   "metadata": {},
   "outputs": [],
   "source": []
  }
 ],
 "metadata": {
  "kernelspec": {
   "display_name": "Python 3 (ipykernel)",
   "language": "python",
   "name": "python3"
  },
  "language_info": {
   "codemirror_mode": {
    "name": "ipython",
    "version": 3
   },
   "file_extension": ".py",
   "mimetype": "text/x-python",
   "name": "python",
   "nbconvert_exporter": "python",
   "pygments_lexer": "ipython3",
   "version": "3.10.8"
  }
 },
 "nbformat": 4,
 "nbformat_minor": 5
}
