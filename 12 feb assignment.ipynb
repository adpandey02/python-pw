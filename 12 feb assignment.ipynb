{
 "cells": [
  {
   "cell_type": "markdown",
   "id": "4ed4fc26-5553-4250-a1af-4e8aa7008a4d",
   "metadata": {},
   "source": [
    "# 1"
   ]
  },
  {
   "cell_type": "code",
   "execution_count": null,
   "id": "504979e1-6a7f-446c-b63f-a3676d909534",
   "metadata": {},
   "outputs": [],
   "source": [
    "'''\n",
    "Exceptions are raised when the program is syntactically correct, but the code resulted in an error.\n",
    "This error does not stop the execution of the program, however, it changes the normal flow of the program\n",
    "\n",
    "Syntax Error: As the name suggests this error is caused by the wrong syntax in the code. It leads to the termination of the program. \n"
   ]
  },
  {
   "cell_type": "markdown",
   "id": "3cdd7b12-a15f-40c7-bb70-c79f5ee554d5",
   "metadata": {},
   "source": [
    "# 2"
   ]
  },
  {
   "cell_type": "code",
   "execution_count": 5,
   "id": "47f66dc1-ada3-4687-87d3-d3d46a17bbd3",
   "metadata": {},
   "outputs": [
    {
     "ename": "ZeroDivisionError",
     "evalue": "division by zero",
     "output_type": "error",
     "traceback": [
      "\u001b[0;31m---------------------------------------------------------------------------\u001b[0m",
      "\u001b[0;31mZeroDivisionError\u001b[0m                         Traceback (most recent call last)",
      "Cell \u001b[0;32mIn[5], line 4\u001b[0m\n\u001b[1;32m      1\u001b[0m \u001b[38;5;124;03m''' the code will crash with an error message  of the respective error\u001b[39;00m\n\u001b[1;32m      2\u001b[0m \u001b[38;5;124;03m  eg --> '''\u001b[39;00m\n\u001b[0;32m----> 4\u001b[0m \u001b[38;5;28mprint\u001b[39m(\u001b[38;5;241;43m4\u001b[39;49m\u001b[38;5;241;43m/\u001b[39;49m\u001b[38;5;241;43m0\u001b[39;49m)\n",
      "\u001b[0;31mZeroDivisionError\u001b[0m: division by zero"
     ]
    }
   ],
   "source": [
    "''' the code will crash with an error message  of the respective error\n",
    "  eg --> '''\n",
    "\n",
    "print(4/0)"
   ]
  },
  {
   "cell_type": "markdown",
   "id": "33a8e164-f945-4eeb-bb8f-ed328a6390e4",
   "metadata": {},
   "source": [
    "# 3"
   ]
  },
  {
   "cell_type": "code",
   "execution_count": 6,
   "id": "4206c23d-37a6-498c-902c-5b187a524452",
   "metadata": {},
   "outputs": [
    {
     "ename": "Exception",
     "evalue": "Sorry, no numbers below zero",
     "output_type": "error",
     "traceback": [
      "\u001b[0;31m---------------------------------------------------------------------------\u001b[0m",
      "\u001b[0;31mException\u001b[0m                                 Traceback (most recent call last)",
      "Cell \u001b[0;32mIn[6], line 14\u001b[0m\n\u001b[1;32m     11\u001b[0m x \u001b[38;5;241m=\u001b[39m \u001b[38;5;241m-\u001b[39m\u001b[38;5;241m1\u001b[39m\n\u001b[1;32m     13\u001b[0m \u001b[38;5;28;01mif\u001b[39;00m x \u001b[38;5;241m<\u001b[39m \u001b[38;5;241m0\u001b[39m:\n\u001b[0;32m---> 14\u001b[0m   \u001b[38;5;28;01mraise\u001b[39;00m \u001b[38;5;167;01mException\u001b[39;00m(\u001b[38;5;124m\"\u001b[39m\u001b[38;5;124mSorry, no numbers below zero\u001b[39m\u001b[38;5;124m\"\u001b[39m)\n",
      "\u001b[0;31mException\u001b[0m: Sorry, no numbers below zero"
     ]
    }
   ],
   "source": [
    "''' \n",
    "Try: This block will test the excepted error to occur\n",
    "\n",
    "Else: If there is no exception then this block will be executed\n",
    "\n",
    "Finally: Finally block always gets executed either exception is generated or not\n",
    "\n",
    "The raise keyword is used to raise an exception.\n",
    "You can define what kind of error to raise, and the text to print to the user '''\n",
    "\n",
    "x = -1\n",
    "\n",
    "if x < 0:\n",
    "  raise Exception(\"Sorry, no numbers below zero\")\n"
   ]
  },
  {
   "cell_type": "markdown",
   "id": "912af87a-e8a4-4aa0-8eb4-ff2f349183c5",
   "metadata": {},
   "source": [
    "# 4"
   ]
  },
  {
   "cell_type": "code",
   "execution_count": 7,
   "id": "0d1c8155-f8d1-4d11-adff-18d2f0f4575c",
   "metadata": {},
   "outputs": [
    {
     "ename": "customError",
     "evalue": "this is a custom made exception message",
     "output_type": "error",
     "traceback": [
      "\u001b[0;31m---------------------------------------------------------------------------\u001b[0m",
      "\u001b[0;31mcustomError\u001b[0m                               Traceback (most recent call last)",
      "Cell \u001b[0;32mIn[7], line 10\u001b[0m\n\u001b[1;32m      7\u001b[0m \u001b[38;5;28;01mclass\u001b[39;00m \u001b[38;5;21;01mcustomError\u001b[39;00m(\u001b[38;5;167;01mException\u001b[39;00m) :\n\u001b[1;32m      8\u001b[0m     \u001b[38;5;28;01mpass\u001b[39;00m\n\u001b[0;32m---> 10\u001b[0m \u001b[38;5;28;01mraise\u001b[39;00m customError(\u001b[38;5;124m'\u001b[39m\u001b[38;5;124mthis is a custom made exception message\u001b[39m\u001b[38;5;124m'\u001b[39m)\n",
      "\u001b[0;31mcustomError\u001b[0m: this is a custom made exception message"
     ]
    }
   ],
   "source": [
    "'''Exceptions need to be derived from the Exception class, either directly or indirectly\n",
    "Specific customs exceptions allow you to segregate different error types \n",
    "if you have custom exceptions, you can have separate handlers for each type\n",
    "\n",
    "eg of custom exception --------->\n",
    "'''\n",
    "class customError(Exception) :\n",
    "    pass\n",
    "\n",
    "raise customError('this is a custom made exception message')"
   ]
  },
  {
   "cell_type": "markdown",
   "id": "f81b3ddc-9678-47ea-b069-bbe8454b0dab",
   "metadata": {},
   "source": [
    "# 6"
   ]
  },
  {
   "cell_type": "code",
   "execution_count": 9,
   "id": "ba8e2e52-a8ae-4952-ad53-8faf372568f3",
   "metadata": {},
   "outputs": [],
   "source": [
    "class zerodivision(Exception):\n",
    "    def __init__(self) :\n",
    "        self.msg = \"Input value is zero, try again!\""
   ]
  },
  {
   "cell_type": "code",
   "execution_count": 12,
   "id": "d365259b-117a-4602-8fa9-d007f752b355",
   "metadata": {},
   "outputs": [
    {
     "name": "stdin",
     "output_type": "stream",
     "text": [
      "Enter a number:  0\n"
     ]
    },
    {
     "name": "stdout",
     "output_type": "stream",
     "text": [
      "Input value is zero, try again!\n"
     ]
    }
   ],
   "source": [
    "try:\n",
    "    i_num = int(input(\"Enter a number: \"))\n",
    "    if i_num == 0:\n",
    "        raise zerodivision\n",
    "except zerodivision as error:\n",
    "    print(error.msg)"
   ]
  },
  {
   "cell_type": "code",
   "execution_count": null,
   "id": "2891f409-62b4-4edf-a469-23ee0dc987c6",
   "metadata": {},
   "outputs": [],
   "source": []
  }
 ],
 "metadata": {
  "kernelspec": {
   "display_name": "Python 3 (ipykernel)",
   "language": "python",
   "name": "python3"
  },
  "language_info": {
   "codemirror_mode": {
    "name": "ipython",
    "version": 3
   },
   "file_extension": ".py",
   "mimetype": "text/x-python",
   "name": "python",
   "nbconvert_exporter": "python",
   "pygments_lexer": "ipython3",
   "version": "3.10.8"
  }
 },
 "nbformat": 4,
 "nbformat_minor": 5
}
