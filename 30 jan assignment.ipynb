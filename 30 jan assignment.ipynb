{
 "cells": [
  {
   "cell_type": "markdown",
   "id": "c86dfde0-22f5-45f1-a288-9e1a1766e9d6",
   "metadata": {},
   "source": [
    "## 1"
   ]
  },
  {
   "cell_type": "code",
   "execution_count": 3,
   "id": "e2566a86-b693-494d-b64e-992866f8c001",
   "metadata": {},
   "outputs": [
    {
     "name": "stdin",
     "output_type": "stream",
     "text": [
      "enter marks:  85\n"
     ]
    },
    {
     "name": "stdout",
     "output_type": "stream",
     "text": [
      "grade B\n"
     ]
    }
   ],
   "source": [
    "marks = int(input('enter marks: '))\n",
    "if marks > 90:\n",
    "    print('grade A')\n",
    "elif marks>80 and marks<=90:\n",
    "    print('grade B')\n",
    "elif marks>60 and marks<=80:\n",
    "    print('grade C')\n",
    "else:\n",
    "    print('grade D')"
   ]
  },
  {
   "cell_type": "code",
   "execution_count": null,
   "id": "b8e8728f-198f-4982-88ee-f1bbe746923f",
   "metadata": {},
   "outputs": [],
   "source": []
  },
  {
   "cell_type": "markdown",
   "id": "26732159-9892-464f-8664-05185751e6d5",
   "metadata": {},
   "source": [
    "## 2"
   ]
  },
  {
   "cell_type": "code",
   "execution_count": 4,
   "id": "1515503b-a4e5-4bd7-8f39-7a623a3c617f",
   "metadata": {},
   "outputs": [
    {
     "name": "stdin",
     "output_type": "stream",
     "text": [
      "enter cost price:  76000\n"
     ]
    },
    {
     "name": "stdout",
     "output_type": "stream",
     "text": [
      "tax 10%\n"
     ]
    }
   ],
   "source": [
    "cp = int(input('enter cost price: '))\n",
    "if cp > 100000:\n",
    "    print('tax 15%')\n",
    "elif cp>50000 and cp<=100000:\n",
    "    print('tax 10%')\n",
    "else:\n",
    "    print('tax 5%')"
   ]
  },
  {
   "cell_type": "code",
   "execution_count": null,
   "id": "741ebc8d-419f-4f94-902b-cda0a3abdbd1",
   "metadata": {},
   "outputs": [],
   "source": []
  },
  {
   "cell_type": "markdown",
   "id": "9a228c6c-f000-47ff-b5ae-0f0fd043ff3c",
   "metadata": {},
   "source": [
    "## 3"
   ]
  },
  {
   "cell_type": "code",
   "execution_count": 6,
   "id": "33d7d666-220a-4e41-8cbe-ba42edf085ba",
   "metadata": {},
   "outputs": [
    {
     "name": "stdin",
     "output_type": "stream",
     "text": [
      "enter city:  delhi\n"
     ]
    },
    {
     "name": "stdout",
     "output_type": "stream",
     "text": [
      "red fort\n"
     ]
    }
   ],
   "source": [
    "city = input('enter city: ')\n",
    "if city.lower() == 'delhi':\n",
    "    print('red fort')\n",
    "elif city.lower() == 'agra':\n",
    "    print('taj mahal')\n",
    "elif city.lower() == 'jaipur':\n",
    "    print('jal mahal')"
   ]
  },
  {
   "cell_type": "code",
   "execution_count": null,
   "id": "c8968242-9761-48e5-996e-f45f6331dde2",
   "metadata": {},
   "outputs": [],
   "source": []
  },
  {
   "cell_type": "markdown",
   "id": "68417d54-ef28-46c5-8199-bac967bbe9fd",
   "metadata": {},
   "source": [
    "## 4"
   ]
  },
  {
   "cell_type": "code",
   "execution_count": 11,
   "id": "2d6d3e86-ac17-43c4-bbc9-01c3336dbe4c",
   "metadata": {},
   "outputs": [
    {
     "name": "stdin",
     "output_type": "stream",
     "text": [
      "enter number to test 30\n"
     ]
    },
    {
     "name": "stdout",
     "output_type": "stream",
     "text": [
      "1\n"
     ]
    }
   ],
   "source": [
    "n = int(input('enter number to test'))\n",
    "count = 0\n",
    "while n > 10:\n",
    "    n = n//3\n",
    "    count+=1\n",
    "print(count)"
   ]
  },
  {
   "cell_type": "code",
   "execution_count": null,
   "id": "b4d1b4fa-a10e-4a48-9286-cf30a9d38628",
   "metadata": {},
   "outputs": [],
   "source": []
  },
  {
   "cell_type": "markdown",
   "id": "feae63ef-7d7a-440e-9d3d-d4007e6c3e32",
   "metadata": {},
   "source": [
    "## 5"
   ]
  },
  {
   "cell_type": "code",
   "execution_count": 12,
   "id": "bb0a24b3-6ea5-4991-997b-b35f52e2146f",
   "metadata": {},
   "outputs": [
    {
     "data": {
      "text/plain": [
       "' \\nWith the while loop we can execute a set of statements as long as a condition is true '"
      ]
     },
     "execution_count": 12,
     "metadata": {},
     "output_type": "execute_result"
    }
   ],
   "source": [
    "''' \n",
    "With the while loop we can execute a set of statements as long as a condition is true '''"
   ]
  },
  {
   "cell_type": "code",
   "execution_count": null,
   "id": "501ce861-c14c-4fdc-bed3-3def4e5a4415",
   "metadata": {},
   "outputs": [],
   "source": []
  },
  {
   "cell_type": "markdown",
   "id": "98626240-9755-4a89-b8ed-5d205c451d7b",
   "metadata": {},
   "source": [
    "## 6"
   ]
  },
  {
   "cell_type": "code",
   "execution_count": 13,
   "id": "93fec6b1-aca6-436f-8b38-0154a9e7506d",
   "metadata": {},
   "outputs": [
    {
     "name": "stdin",
     "output_type": "stream",
     "text": [
      "no of levels in pattern 4\n"
     ]
    },
    {
     "name": "stdout",
     "output_type": "stream",
     "text": [
      "#\n",
      "##\n",
      "###\n",
      "####\n"
     ]
    }
   ],
   "source": [
    "n = int(input('no of levels in pattern'))\n",
    "i = 1\n",
    "while i <= n:\n",
    "    print(i * '#')\n",
    "    i +=1"
   ]
  },
  {
   "cell_type": "code",
   "execution_count": 16,
   "id": "1af5dae1-302b-4750-b08b-a3ccefa6b5c2",
   "metadata": {},
   "outputs": [
    {
     "name": "stdin",
     "output_type": "stream",
     "text": [
      "no of levels in pattern 4\n"
     ]
    },
    {
     "name": "stdout",
     "output_type": "stream",
     "text": [
      "####\n",
      "###\n",
      "##\n",
      "#\n"
     ]
    }
   ],
   "source": [
    "n = int(input('no of levels in pattern'))\n",
    "while n>0:\n",
    "    print(n * '#')\n",
    "    n-=1"
   ]
  },
  {
   "cell_type": "code",
   "execution_count": 21,
   "id": "65efa886-ca30-49c3-b550-284c5ca49db8",
   "metadata": {},
   "outputs": [
    {
     "name": "stdin",
     "output_type": "stream",
     "text": [
      "no of levels in pattern 4\n"
     ]
    },
    {
     "name": "stdout",
     "output_type": "stream",
     "text": [
      "1 \n",
      "\n",
      "2 3 \n",
      "\n",
      "4 5 6 \n",
      "\n",
      "7 8 9 10 \n",
      "\n"
     ]
    }
   ],
   "source": [
    "n = int(input('no of levels in pattern'))\n",
    "i = 1\n",
    "k= 1\n",
    "while i <= n:\n",
    "    j=1\n",
    "    while j<=i:\n",
    "        print(k,end=\" \")\n",
    "        j+=1\n",
    "        k+=1\n",
    "    print('\\n')\n",
    "    i +=1"
   ]
  },
  {
   "cell_type": "code",
   "execution_count": null,
   "id": "a555fc27-6104-4808-8a63-d7c224a33d6a",
   "metadata": {},
   "outputs": [],
   "source": []
  },
  {
   "cell_type": "markdown",
   "id": "5a2f0a03-b4ff-4f0e-aac2-bccc2fe01181",
   "metadata": {
    "tags": []
   },
   "source": [
    "## 7 and 8"
   ]
  },
  {
   "cell_type": "code",
   "execution_count": 23,
   "id": "5193a4e3-9aa4-4cd4-b196-1b0a604795c3",
   "metadata": {},
   "outputs": [
    {
     "name": "stdout",
     "output_type": "stream",
     "text": [
      "10\n",
      "9\n",
      "8\n",
      "7\n",
      "6\n",
      "5\n",
      "4\n",
      "3\n",
      "2\n",
      "1\n"
     ]
    }
   ],
   "source": [
    "i = 10\n",
    "while i >0:\n",
    "    print(i)\n",
    "    i-=1"
   ]
  },
  {
   "cell_type": "code",
   "execution_count": null,
   "id": "3a4c647d-fe2d-402c-9039-687d124fbc35",
   "metadata": {},
   "outputs": [],
   "source": []
  }
 ],
 "metadata": {
  "kernelspec": {
   "display_name": "Python 3 (ipykernel)",
   "language": "python",
   "name": "python3"
  },
  "language_info": {
   "codemirror_mode": {
    "name": "ipython",
    "version": 3
   },
   "file_extension": ".py",
   "mimetype": "text/x-python",
   "name": "python",
   "nbconvert_exporter": "python",
   "pygments_lexer": "ipython3",
   "version": "3.10.8"
  }
 },
 "nbformat": 4,
 "nbformat_minor": 5
}
