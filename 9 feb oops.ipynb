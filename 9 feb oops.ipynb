{
 "cells": [
  {
   "cell_type": "markdown",
   "id": "4e9e0699-a489-4dae-8971-af2e800c7675",
   "metadata": {},
   "source": [
    "# 1"
   ]
  },
  {
   "cell_type": "code",
   "execution_count": 1,
   "id": "aabc7cd0-06f3-4e84-8c67-d906690aebae",
   "metadata": {},
   "outputs": [],
   "source": [
    "class vehicle:\n",
    "    \n",
    "    def __init__(self, name_of_vehicle, max_speed, average_of_vehicle):\n",
    "        self.name_of_vehicle = name_of_vehicle\n",
    "        self.average_of_vehicle = average_of_vehicle\n",
    "        self.max_speed = max_speed"
   ]
  },
  {
   "cell_type": "markdown",
   "id": "e9137ca7-c4eb-40ed-9073-25b7c3aebc7b",
   "metadata": {},
   "source": [
    "# 2"
   ]
  },
  {
   "cell_type": "code",
   "execution_count": 2,
   "id": "c66ca374-cd7e-4b15-a3ad-764129500198",
   "metadata": {},
   "outputs": [],
   "source": [
    "class car(vehicle):\n",
    "    \n",
    "    def seating_capacity(self, capacity):\n",
    "        return self.name_of_vehicle, capacity"
   ]
  },
  {
   "cell_type": "code",
   "execution_count": 3,
   "id": "917912a3-ce22-4df8-86d5-f22812827d7c",
   "metadata": {},
   "outputs": [],
   "source": [
    "c1 = car('audi',400,200)"
   ]
  },
  {
   "cell_type": "code",
   "execution_count": 4,
   "id": "cf6376d5-b571-41c8-8a66-66736138b048",
   "metadata": {},
   "outputs": [
    {
     "data": {
      "text/plain": [
       "('audi', 4)"
      ]
     },
     "execution_count": 4,
     "metadata": {},
     "output_type": "execute_result"
    }
   ],
   "source": [
    "c1.seating_capacity(4)"
   ]
  },
  {
   "cell_type": "markdown",
   "id": "57e00179-b7df-4e67-a188-64e7104b4ca9",
   "metadata": {},
   "source": [
    "# 3"
   ]
  },
  {
   "cell_type": "markdown",
   "id": "c99ed86b-fb12-4704-a56b-5cb71d7cc2b5",
   "metadata": {},
   "source": [
    "when two or more classes act as the parent class for a child class and the classes are not\n",
    "inherently related to each other, that is called multipe inheritance"
   ]
  },
  {
   "cell_type": "code",
   "execution_count": 35,
   "id": "b2e9931b-e15a-49ba-af64-c6ceed2ae5a4",
   "metadata": {},
   "outputs": [],
   "source": [
    "class father:\n",
    "    def __init__(self, height):\n",
    "        self.height = height\n",
    "    def pr1(self):\n",
    "        print('father')\n",
    "        \n",
    "class mother:\n",
    "    def __init__(self, personality):\n",
    "        self.personality = personality\n",
    "    def pr2(self):\n",
    "        return 'mother'\n",
    "        \n",
    "class child(mother, father):\n",
    "    def __init__(self, height, personality):\n",
    "        father.__init__(self,height)\n",
    "        mother.__init__(self,personality)\n",
    "   "
   ]
  },
  {
   "cell_type": "code",
   "execution_count": 36,
   "id": "91d464a4-ebb8-4ebd-b481-f68f7604ca6f",
   "metadata": {},
   "outputs": [],
   "source": [
    "c1 = child(140, 'good')"
   ]
  },
  {
   "cell_type": "code",
   "execution_count": 37,
   "id": "dd6873e8-9add-4c24-9220-5e8813cb3a16",
   "metadata": {},
   "outputs": [
    {
     "data": {
      "text/plain": [
       "'good'"
      ]
     },
     "execution_count": 37,
     "metadata": {},
     "output_type": "execute_result"
    }
   ],
   "source": [
    "c1.personality"
   ]
  },
  {
   "cell_type": "code",
   "execution_count": 38,
   "id": "745c6099-0284-4d39-8bf7-69683de4dc3c",
   "metadata": {},
   "outputs": [
    {
     "data": {
      "text/plain": [
       "140"
      ]
     },
     "execution_count": 38,
     "metadata": {},
     "output_type": "execute_result"
    }
   ],
   "source": [
    "c1.height"
   ]
  },
  {
   "cell_type": "code",
   "execution_count": 39,
   "id": "1f7a59fc-ac8a-46e2-9726-36c272f34894",
   "metadata": {},
   "outputs": [
    {
     "data": {
      "text/plain": [
       "'mother'"
      ]
     },
     "execution_count": 39,
     "metadata": {},
     "output_type": "execute_result"
    }
   ],
   "source": [
    "c1.pr2()"
   ]
  },
  {
   "cell_type": "code",
   "execution_count": 42,
   "id": "a2558fa5-c4a5-4903-a7ec-83fff7da2290",
   "metadata": {},
   "outputs": [
    {
     "name": "stdout",
     "output_type": "stream",
     "text": [
      "father\n"
     ]
    }
   ],
   "source": [
    "c1.pr1()"
   ]
  },
  {
   "cell_type": "markdown",
   "id": "3b91f69c-edaa-4363-b938-321235b26c45",
   "metadata": {},
   "source": [
    "# 4"
   ]
  },
  {
   "cell_type": "markdown",
   "id": "d8ff43fe-eb2f-47a0-b10a-7d99367cd9b0",
   "metadata": {},
   "source": [
    "Getters are the methods that are used in Object-Oriented Programming (OOPS) to access a class's private attributes. \n",
    "The setattr() function in Python corresponds to the getattr() function in Python. It alters an object's attribute values\n",
    "\n",
    "The setter is a method that is used to set the property's value. It is very useful in object-oriented programming to set the value of private attributes in a class.\n",
    "Generally, getters and setters are mainly used to ensure the data encapsulation in OOPs."
   ]
  },
  {
   "cell_type": "code",
   "execution_count": 43,
   "id": "34825eca-d681-43a8-a99b-9bb4681971d5",
   "metadata": {},
   "outputs": [
    {
     "name": "stdout",
     "output_type": "stream",
     "text": [
      "19\n",
      "19\n"
     ]
    }
   ],
   "source": [
    "class test:   \n",
    "    def __init__(self, age = 0):   \n",
    "         self._age = age   \n",
    "      # using the getter method   \n",
    "    def get_age(self):   \n",
    "        return self._age   \n",
    "      # using the setter method   \n",
    "    def set_age(self, a):   \n",
    "        self._age = a   \n",
    "    \n",
    "t1 = test()   \n",
    "    \n",
    "#using the setter function  \n",
    "t1.set_age(19)   \n",
    "    \n",
    "# using the getter function  \n",
    "print(t1.get_age())   \n",
    "    \n",
    "print(t1._age)  "
   ]
  },
  {
   "cell_type": "markdown",
   "id": "48159021-7fa3-4116-b3c7-fdf7c5ec0f57",
   "metadata": {},
   "source": [
    "# 5"
   ]
  },
  {
   "cell_type": "markdown",
   "id": "e3e88ac8-3dc6-48f9-a964-82cbabd498c4",
   "metadata": {},
   "source": [
    "Method overriding is an ability of any object-oriented programming language that allows a subclass or child class to provide a specific implementation of a method that is already provided by one of its super-classes or parent classes"
   ]
  },
  {
   "cell_type": "code",
   "execution_count": 44,
   "id": "209ccb46-2009-4f88-a504-c49501fe56c2",
   "metadata": {},
   "outputs": [
    {
     "name": "stdout",
     "output_type": "stream",
     "text": [
      "Inside Parent\n",
      "Inside Child\n"
     ]
    }
   ],
   "source": [
    "\n",
    "class Parent():\n",
    "      \n",
    "    # Constructor\n",
    "    def __init__(self):\n",
    "        self.value = \"Inside Parent\"\n",
    "          \n",
    "    # Parent's show method\n",
    "    def show(self):\n",
    "        print(self.value)\n",
    "          \n",
    "# Defining child class\n",
    "class Child(Parent):\n",
    "      \n",
    "    # Constructor\n",
    "    def __init__(self):\n",
    "        self.value = \"Inside Child\"\n",
    "        # Child's show method\n",
    "    def show(self):\n",
    "        print(self.value)\n",
    "          \n",
    "          \n",
    "# Driver's code\n",
    "obj1 = Parent()\n",
    "obj2 = Child()\n",
    "  \n",
    "obj1.show()\n",
    "obj2.show()"
   ]
  },
  {
   "cell_type": "code",
   "execution_count": null,
   "id": "7f7f832e-8aea-498a-a6b2-f5a1c72d49fd",
   "metadata": {},
   "outputs": [],
   "source": []
  }
 ],
 "metadata": {
  "kernelspec": {
   "display_name": "Python 3 (ipykernel)",
   "language": "python",
   "name": "python3"
  },
  "language_info": {
   "codemirror_mode": {
    "name": "ipython",
    "version": 3
   },
   "file_extension": ".py",
   "mimetype": "text/x-python",
   "name": "python",
   "nbconvert_exporter": "python",
   "pygments_lexer": "ipython3",
   "version": "3.10.8"
  }
 },
 "nbformat": 4,
 "nbformat_minor": 5
}
