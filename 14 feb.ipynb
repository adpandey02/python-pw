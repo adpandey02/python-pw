{
 "cells": [
  {
   "cell_type": "markdown",
   "id": "98a302c7-2473-4ae8-b42e-c1f9153ae427",
   "metadata": {},
   "source": [
    "# 1"
   ]
  },
  {
   "cell_type": "code",
   "execution_count": null,
   "id": "8628adc7-197a-4a7b-8b71-60c4678b7409",
   "metadata": {},
   "outputs": [],
   "source": [
    "'''\n",
    "Multithreading is defined as the ability of a processor to execute multiple threads concurrently\n",
    "Better use of system resources is possible since threads execute tasks parallely.\n",
    "threading module is used for it '''"
   ]
  },
  {
   "cell_type": "markdown",
   "id": "75dca053-6c8f-4cc9-b594-64fa47653de0",
   "metadata": {},
   "source": [
    "# 2"
   ]
  },
  {
   "cell_type": "code",
   "execution_count": null,
   "id": "e9165b71-76e4-4acb-beee-c89705bd54ac",
   "metadata": {},
   "outputs": [],
   "source": [
    "'''\n",
    "In Python, the method threading.active_count() from the threading module is used to count the currently active or running threads."
   ]
  },
  {
   "cell_type": "code",
   "execution_count": 1,
   "id": "a201c167-f226-405c-aac4-94a375acc089",
   "metadata": {},
   "outputs": [
    {
     "name": "stdout",
     "output_type": "stream",
     "text": [
      "START: Current active thread count:  8\n",
      "Thread-2: Number of active threads: 10\n",
      "Thread 2 Value: 200\n",
      "Thread-1: Number of active threads: 10\n",
      "Thread 1 Value: 100\n",
      "Thread-3: Number of active threads: 9\n",
      "Thread 3 Value: 300\n"
     ]
    }
   ],
   "source": [
    "import threading\n",
    "import time\n",
    "# Methods for three threads..\n",
    "def thread1_Subroutine(i):\n",
    "    time.sleep(2)\n",
    "    print(\"Thread-1: Number of active threads:\", threading.active_count())\n",
    "    print('Thread 1 Value:', i)\n",
    "\n",
    "def thread2_Subroutine(i):\n",
    "    print(\"Thread-2: Number of active threads:\", threading.active_count())\n",
    "    print('Thread 2 Value:', i)\n",
    "    \n",
    "def thread3_Subroutine(i):\n",
    "    time.sleep(5)\n",
    "    print(\"Thread-3: Number of active threads:\", threading.active_count())\n",
    "    print(\"Thread 3 Value:\", i)\n",
    "    \n",
    "# Creating sample threads\n",
    "thread1 = threading.Thread(target=thread1_Subroutine, args=(100,), name=\"Thread1\")\n",
    "thread2 = threading.Thread(target=thread2_Subroutine, args=(200,), name=\"Thread2\")\n",
    "thread3 = threading.Thread(target=thread3_Subroutine, args=(300,), name=\"Thread3\")\n",
    "print(\"START: Current active thread count: \", threading.active_count())\n",
    "# Calling start() method to initialize execution\n",
    "thread1.start()\n",
    "thread2.start()\n",
    "thread3.start()\n",
    "thread3.join() # Wait for thread-3 to join."
   ]
  },
  {
   "cell_type": "code",
   "execution_count": null,
   "id": "a640eb2a-cf46-4c26-8bf3-d62af74c3e28",
   "metadata": {},
   "outputs": [],
   "source": [
    "'''\n",
    "Return the current Thread object, corresponding to the caller’s thread of control \n",
    "'''"
   ]
  },
  {
   "cell_type": "code",
   "execution_count": null,
   "id": "a62b2b45-d19c-4f54-bb74-9c179532596e",
   "metadata": {},
   "outputs": [],
   "source": [
    "'''\n",
    "Return a list of all Thread objects currently active the main thread is always part of the result\n",
    "'''"
   ]
  },
  {
   "cell_type": "markdown",
   "id": "78fd071f-f678-4283-957d-1bbdacf5cf0a",
   "metadata": {},
   "source": [
    "# 3"
   ]
  },
  {
   "cell_type": "code",
   "execution_count": null,
   "id": "6fd89357-0791-4fdc-9df9-c0f73fa80a16",
   "metadata": {},
   "outputs": [],
   "source": [
    "# 1\n",
    "'''\n",
    "Method representing the thread’s activity.\n",
    "You may override this method in a subclass. The standard run() method invokes the callable object passed to\n",
    "the object’s constructor as the target argument, if any, with positional and keyword arguments taken from the args and kwargs arguments, respectively.\n",
    "Using list or tuple as the args argument which passed to the Thread could achieve the same effect\n",
    "'''"
   ]
  },
  {
   "cell_type": "code",
   "execution_count": null,
   "id": "31eaf9d3-5515-4ef8-9f38-b8ee4ad15fca",
   "metadata": {},
   "outputs": [],
   "source": [
    "# 2 \n",
    "''' \n",
    "Start the thread’s activity.\n",
    "It must be called at most once per thread object. It arranges for the object’s run() method to be invoked in a separate thread of control.\n",
    "This method will raise a RuntimeError if called more than once on the same thread object.\n",
    "'''"
   ]
  },
  {
   "cell_type": "code",
   "execution_count": null,
   "id": "fd607530-fc2b-49ad-a4ff-f6ad4b96cb14",
   "metadata": {},
   "outputs": [],
   "source": [
    "# 3\n",
    "'''\n",
    "Wait until the thread terminates. \n",
    "This blocks the calling thread until the thread whose join() method is called terminates – \n",
    "either normally or through an unhandled exception – or until the optional timeout occurs.\n",
    "'''"
   ]
  },
  {
   "cell_type": "code",
   "execution_count": null,
   "id": "1ead4852-71ea-448f-9b26-c96eeed3a2e8",
   "metadata": {},
   "outputs": [],
   "source": [
    "# 4\n",
    "'''\n",
    "Thread.is_alive() method is an inbuilt method of the Thread class of the threading module in Python. \n",
    "It uses a Thread object, and checks whether that thread is alive or not, ie, it is still running or not\n",
    "'''"
   ]
  },
  {
   "cell_type": "markdown",
   "id": "53dd5cf6-93a7-450f-8181-8d863124aaa2",
   "metadata": {},
   "source": [
    "# 4"
   ]
  },
  {
   "cell_type": "code",
   "execution_count": 4,
   "id": "4ef556db-561e-47f7-b7c5-688a0265d319",
   "metadata": {},
   "outputs": [
    {
     "name": "stdout",
     "output_type": "stream",
     "text": [
      "square is 100\n",
      "cube is 1000\n"
     ]
    }
   ],
   "source": [
    "import threading\n",
    "\n",
    "def cube(n) :\n",
    "    print(f'cube is {n**3}')\n",
    "    \n",
    "def square(n) :\n",
    "    print(f'square is {n**2}')\n",
    "\n",
    "if __name__ == '__main__' :\n",
    "    \n",
    "    t1 = threading.Thread(target=square, args=(10,))\n",
    "    t2 = threading.Thread(target=cube, args=(10,))\n",
    "    \n",
    "    t1.start()\n",
    "    t2.start()\n",
    "    t1.join()\n",
    "    t2.join()\n",
    "  "
   ]
  },
  {
   "cell_type": "markdown",
   "id": "c4a377b6-3240-4391-9005-2a2dd3bf64b8",
   "metadata": {},
   "source": [
    "# 5"
   ]
  },
  {
   "cell_type": "code",
   "execution_count": null,
   "id": "61a5bfec-1ee4-4c8d-845f-151759935520",
   "metadata": {},
   "outputs": [],
   "source": [
    "''' \n",
    "Advantages:\n",
    "\n",
    "It doesn’t block the user. This is because threads are independent of each other.\n",
    "Better use of system resources is possible since threads execute tasks parallely.\n",
    "Enhanced performance on multi-processor machines.\n",
    "Multi-threaded servers and interactive GUIs use multithreading exclusively.\n",
    "\n",
    "Disadvantages:\n",
    "\n",
    "As number of threads increase, complexity increases.\n",
    "Synchronization of shared resources (objects, data) is necessary.\n",
    "It is difficult to debug, result is sometimes unpredictable.\n",
    "Potential deadlocks which leads to starvation, i.e. some threads may not be served with a bad design\n",
    "Constructing and synchronizing threads is CPU/memory intensive.\n",
    "'''"
   ]
  },
  {
   "cell_type": "markdown",
   "id": "c42301eb-1dfc-45da-940b-cd33260106b0",
   "metadata": {},
   "source": [
    "# 6"
   ]
  },
  {
   "cell_type": "code",
   "execution_count": null,
   "id": "8e03aec7-8bb4-4136-8dd6-7b13bc9b6b66",
   "metadata": {},
   "outputs": [],
   "source": [
    "'''\n",
    "Deadlocks can occur when two (or more) threads are blocking each other's progress\n",
    "A deadlock is a concurrency failure mode where a thread or threads wait for a condition that never occurs.\n",
    "\n",
    "Race condition is when two or more threads try to access a shared resource and end up competing \n",
    "for the resource ,  this may give unpredictible outputs, a way to solve this is to use locks."
   ]
  }
 ],
 "metadata": {
  "kernelspec": {
   "display_name": "Python 3 (ipykernel)",
   "language": "python",
   "name": "python3"
  },
  "language_info": {
   "codemirror_mode": {
    "name": "ipython",
    "version": 3
   },
   "file_extension": ".py",
   "mimetype": "text/x-python",
   "name": "python",
   "nbconvert_exporter": "python",
   "pygments_lexer": "ipython3",
   "version": "3.10.8"
  }
 },
 "nbformat": 4,
 "nbformat_minor": 5
}
